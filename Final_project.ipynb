{
 "cells": [
  {
   "cell_type": "markdown",
   "id": "associate-zealand",
   "metadata": {},
   "source": [
    "# Final Project "
   ]
  },
  {
   "cell_type": "code",
   "execution_count": 1,
   "id": "framed-klein",
   "metadata": {},
   "outputs": [],
   "source": [
    "import pandas as pd\n",
    "import numpy as np\n",
    "\n",
    "import sklearn\n",
    "\n",
    "import scipy.stats as stats\n",
    "\n",
    "from scipy.stats import shapiro\n",
    "\n",
    "from sklearn.cluster import KMeans\n",
    "\n",
    "import missingno as msno\n",
    "import matplotlib.pyplot as plt\n",
    "\n",
    "from sklearn.preprocessing import StandardScaler\n",
    "\n",
    "from sklearn.linear_model import LogisticRegression\n",
    "from sklearn.metrics import classification_report, confusion_matrix"
   ]
  },
  {
   "cell_type": "code",
   "execution_count": 2,
   "id": "pacific-marathon",
   "metadata": {},
   "outputs": [],
   "source": [
    "from sklearn.metrics import classification_report"
   ]
  },
  {
   "cell_type": "code",
   "execution_count": 3,
   "id": "thermal-finish",
   "metadata": {},
   "outputs": [],
   "source": [
    "from sklearn.model_selection import train_test_split"
   ]
  },
  {
   "cell_type": "code",
   "execution_count": 4,
   "id": "restricted-prescription",
   "metadata": {},
   "outputs": [],
   "source": [
    "from sklearn.svm import SVC"
   ]
  },
  {
   "cell_type": "code",
   "execution_count": 5,
   "id": "favorite-harvest",
   "metadata": {},
   "outputs": [],
   "source": [
    "from sklearn.model_selection import GridSearchCV"
   ]
  },
  {
   "cell_type": "code",
   "execution_count": 6,
   "id": "intense-somalia",
   "metadata": {},
   "outputs": [],
   "source": [
    "%matplotlib inline"
   ]
  },
  {
   "cell_type": "markdown",
   "id": "affected-argument",
   "metadata": {},
   "source": [
    "Reading the csv file with data from World Bank projects"
   ]
  },
  {
   "cell_type": "code",
   "execution_count": 7,
   "id": "noble-blank",
   "metadata": {},
   "outputs": [],
   "source": [
    "df1 = pd.read_csv('data_wb.csv')"
   ]
  },
  {
   "cell_type": "code",
   "execution_count": 8,
   "id": "thirty-advocacy",
   "metadata": {},
   "outputs": [
    {
     "data": {
      "text/plain": [
       "Index(['iati_identifier', 'title_narrative', 'title_narrative_lang',\n",
       "       'title_xml', 'activity_status_code', 'activity_scope_code',\n",
       "       'capital_spend_percentage', 'last_updated_datetime',\n",
       "       'sector_vocabulary', 'participating_org_narrative_lang',\n",
       "       'participating_org_narrative_text', 'reporting_org_ref',\n",
       "       'participating_org_role', 'reporting_org_secondary_reporter',\n",
       "       'participating_org_type', 'recipient_region_vocabulary',\n",
       "       'description_type', 'recipient_region_percentage',\n",
       "       'recipient_region_xml', 'sector_narrative',\n",
       "       'participating_org_narrative', 'description_lang',\n",
       "       'recipient_region_code', 'sector_narrative_text',\n",
       "       'reporting_org_narrative', 'sector_code', 'description_narrative_text',\n",
       "       'reporting_org_xml', 'reporting_org_type_code', 'description_xml',\n",
       "       'sector_xml', 'description_narrative', 'sector_percentage',\n",
       "       'participating_org_ref', 'sector_narrative_lang',\n",
       "       'recipient_region_vocabulary_uri', 'participating_org_xml',\n",
       "       'sector_vocabulary_uri', 'recipient_region_name',\n",
       "       'reporting_org_type_name', 'budget_period_start_iso_date',\n",
       "       'budget_value', 'budget_imf_link', 'budget_value_date',\n",
       "       'budget_period_end_iso_date', 'budget_xml', 'budget_value_usd_sum',\n",
       "       'budget_status', 'budget_usd_conversion_rate', 'budget_value_currency',\n",
       "       'budget_value_usd', 'budget_type', 'recipient_country_xml',\n",
       "       'recipient_country_name', 'recipient_country_percentage',\n",
       "       'recipient_country_code', 'recipient_region_narrative',\n",
       "       'recipient_region_narrative_lang', 'recipient_region_narrative_text',\n",
       "       'recipient_country_narrative', 'recipient_country_narrative_text',\n",
       "       'recipient_country_narrative_lang'],\n",
       "      dtype='object')"
      ]
     },
     "execution_count": 8,
     "metadata": {},
     "output_type": "execute_result"
    }
   ],
   "source": [
    "df1.columns"
   ]
  },
  {
   "cell_type": "code",
   "execution_count": 9,
   "id": "linear-caution",
   "metadata": {},
   "outputs": [],
   "source": [
    "df2 = df1[['iati_identifier','title_narrative','activity_status_code', 'activity_scope_code','sector_code', \n",
    "     'reporting_org_type_name', 'budget_value_usd_sum', 'recipient_country_name', 'recipient_country_percentage', 'recipient_region_code']]"
   ]
  },
  {
   "cell_type": "code",
   "execution_count": 10,
   "id": "suitable-hungarian",
   "metadata": {},
   "outputs": [
    {
     "data": {
      "text/html": [
       "<div>\n",
       "<style scoped>\n",
       "    .dataframe tbody tr th:only-of-type {\n",
       "        vertical-align: middle;\n",
       "    }\n",
       "\n",
       "    .dataframe tbody tr th {\n",
       "        vertical-align: top;\n",
       "    }\n",
       "\n",
       "    .dataframe thead th {\n",
       "        text-align: right;\n",
       "    }\n",
       "</style>\n",
       "<table border=\"1\" class=\"dataframe\">\n",
       "  <thead>\n",
       "    <tr style=\"text-align: right;\">\n",
       "      <th></th>\n",
       "      <th>iati_identifier</th>\n",
       "      <th>title_narrative</th>\n",
       "      <th>activity_status_code</th>\n",
       "      <th>activity_scope_code</th>\n",
       "      <th>sector_code</th>\n",
       "      <th>reporting_org_type_name</th>\n",
       "      <th>budget_value_usd_sum</th>\n",
       "      <th>recipient_country_name</th>\n",
       "      <th>recipient_country_percentage</th>\n",
       "      <th>recipient_region_code</th>\n",
       "    </tr>\n",
       "  </thead>\n",
       "  <tbody>\n",
       "    <tr>\n",
       "      <th>0</th>\n",
       "      <td>XI-IATI-WBTF-TF070850</td>\n",
       "      <td>Australian Trust Fund for Solomon Islands Rura...</td>\n",
       "      <td>2</td>\n",
       "      <td>4.0</td>\n",
       "      <td>73010,43042,43040,32161,31193,31191,31163,3113...</td>\n",
       "      <td>Multilateral</td>\n",
       "      <td>21300075.00</td>\n",
       "      <td>Solomon Islands</td>\n",
       "      <td>NaN</td>\n",
       "      <td>NaN</td>\n",
       "    </tr>\n",
       "    <tr>\n",
       "      <th>1</th>\n",
       "      <td>XM-DAC-21-1-2018007243B1ZAMOP1POL-ZAMOP1PII</td>\n",
       "      <td>2018 Funding: Promote land ownership for commu...</td>\n",
       "      <td>4</td>\n",
       "      <td>NaN</td>\n",
       "      <td>NaN</td>\n",
       "      <td>Government</td>\n",
       "      <td>NaN</td>\n",
       "      <td>Zambia</td>\n",
       "      <td>NaN</td>\n",
       "      <td>NaN</td>\n",
       "    </tr>\n",
       "    <tr>\n",
       "      <th>2</th>\n",
       "      <td>ES-DIR3-E04585801-009-031721</td>\n",
       "      <td>PROYECTO: Mejora de condiciones económicas de ...</td>\n",
       "      <td>3</td>\n",
       "      <td>NaN</td>\n",
       "      <td>43040</td>\n",
       "      <td>Government</td>\n",
       "      <td>19190.51</td>\n",
       "      <td>Ghana</td>\n",
       "      <td>100.0</td>\n",
       "      <td>289</td>\n",
       "    </tr>\n",
       "    <tr>\n",
       "      <th>3</th>\n",
       "      <td>ES-DIR3-E04585801-009-002077</td>\n",
       "      <td>FORTALEC. DEL DESAR. INTEGRAL LOCAL MEDIANTE A...</td>\n",
       "      <td>3</td>\n",
       "      <td>NaN</td>\n",
       "      <td>41010,43040,16050</td>\n",
       "      <td>Government</td>\n",
       "      <td>68968.65</td>\n",
       "      <td>Morocco</td>\n",
       "      <td>99.0</td>\n",
       "      <td>189</td>\n",
       "    </tr>\n",
       "    <tr>\n",
       "      <th>4</th>\n",
       "      <td>ES-DIR3-E04585801-009-001991</td>\n",
       "      <td>DIVERSIFICACIÓN DE LAS FUENTES DE INGRESO Y ES...</td>\n",
       "      <td>3</td>\n",
       "      <td>NaN</td>\n",
       "      <td>43040</td>\n",
       "      <td>Government</td>\n",
       "      <td>46963.25</td>\n",
       "      <td>Morocco</td>\n",
       "      <td>100.0</td>\n",
       "      <td>189</td>\n",
       "    </tr>\n",
       "  </tbody>\n",
       "</table>\n",
       "</div>"
      ],
      "text/plain": [
       "                               iati_identifier  \\\n",
       "0                        XI-IATI-WBTF-TF070850   \n",
       "1  XM-DAC-21-1-2018007243B1ZAMOP1POL-ZAMOP1PII   \n",
       "2                 ES-DIR3-E04585801-009-031721   \n",
       "3                 ES-DIR3-E04585801-009-002077   \n",
       "4                 ES-DIR3-E04585801-009-001991   \n",
       "\n",
       "                                     title_narrative  activity_status_code  \\\n",
       "0  Australian Trust Fund for Solomon Islands Rura...                     2   \n",
       "1  2018 Funding: Promote land ownership for commu...                     4   \n",
       "2  PROYECTO: Mejora de condiciones económicas de ...                     3   \n",
       "3  FORTALEC. DEL DESAR. INTEGRAL LOCAL MEDIANTE A...                     3   \n",
       "4  DIVERSIFICACIÓN DE LAS FUENTES DE INGRESO Y ES...                     3   \n",
       "\n",
       "   activity_scope_code                                        sector_code  \\\n",
       "0                  4.0  73010,43042,43040,32161,31193,31191,31163,3113...   \n",
       "1                  NaN                                                NaN   \n",
       "2                  NaN                                              43040   \n",
       "3                  NaN                                  41010,43040,16050   \n",
       "4                  NaN                                              43040   \n",
       "\n",
       "  reporting_org_type_name  budget_value_usd_sum recipient_country_name  \\\n",
       "0            Multilateral           21300075.00        Solomon Islands   \n",
       "1              Government                   NaN                 Zambia   \n",
       "2              Government              19190.51                  Ghana   \n",
       "3              Government              68968.65                Morocco   \n",
       "4              Government              46963.25                Morocco   \n",
       "\n",
       "  recipient_country_percentage recipient_region_code  \n",
       "0                          NaN                   NaN  \n",
       "1                          NaN                   NaN  \n",
       "2                        100.0                   289  \n",
       "3                         99.0                   189  \n",
       "4                        100.0                   189  "
      ]
     },
     "execution_count": 10,
     "metadata": {},
     "output_type": "execute_result"
    }
   ],
   "source": [
    "df2.head()"
   ]
  },
  {
   "cell_type": "code",
   "execution_count": 11,
   "id": "voluntary-scholarship",
   "metadata": {},
   "outputs": [
    {
     "data": {
      "text/plain": [
       "(7819, 10)"
      ]
     },
     "execution_count": 11,
     "metadata": {},
     "output_type": "execute_result"
    }
   ],
   "source": [
    "df2.shape"
   ]
  },
  {
   "cell_type": "markdown",
   "id": "convinced-pricing",
   "metadata": {},
   "source": [
    "## Data cleaning "
   ]
  },
  {
   "cell_type": "code",
   "execution_count": 13,
   "id": "dirty-printing",
   "metadata": {},
   "outputs": [
    {
     "data": {
      "text/plain": [
       "<AxesSubplot:>"
      ]
     },
     "execution_count": 13,
     "metadata": {},
     "output_type": "execute_result"
    },
    {
     "data": {
      "image/png": "[encoded data removed]",
      "text/plain": [
       "<Figure size 1800x720 with 2 Axes>"
      ]
     },
     "metadata": {
      "needs_background": "light"
     },
     "output_type": "display_data"
    }
   ],
   "source": [
    "msno.matrix(df2)"
   ]
  },
  {
   "cell_type": "code",
   "execution_count": 14,
   "id": "associate-consortium",
   "metadata": {},
   "outputs": [],
   "source": [
    "df2 = df1[['iati_identifier','title_narrative','activity_status_code','sector_code', \n",
    "     'reporting_org_type_name', 'budget_value_usd_sum', 'recipient_country_name', 'recipient_country_percentage', 'recipient_region_code']]"
   ]
  },
  {
   "cell_type": "code",
   "execution_count": 15,
   "id": "associate-whole",
   "metadata": {},
   "outputs": [
    {
     "name": "stderr",
     "output_type": "stream",
     "text": [
      "<ipython-input-15-319b85221014>:1: SettingWithCopyWarning: \n",
      "A value is trying to be set on a copy of a slice from a DataFrame\n",
      "\n",
      "See the caveats in the documentation: https://pandas.pydata.org/pandas-docs/stable/user_guide/indexing.html#returning-a-view-versus-a-copy\n",
      "  df2.dropna(axis=0,inplace=True, subset=['budget_value_usd_sum', 'recipient_country_name', 'recipient_country_percentage'])\n"
     ]
    },
    {
     "data": {
      "text/plain": [
       "<AxesSubplot:>"
      ]
     },
     "execution_count": 15,
     "metadata": {},
     "output_type": "execute_result"
    },
    {
     "data": {
      "image/png": "[encoded data removed]",
      "text/plain": [
       "<Figure size 1800x720 with 2 Axes>"
      ]
     },
     "metadata": {
      "needs_background": "light"
     },
     "output_type": "display_data"
    }
   ],
   "source": [
    "df2.dropna(axis=0,inplace=True, subset=['budget_value_usd_sum', 'recipient_country_name', 'recipient_country_percentage'])\n",
    "msno.matrix(df2)"
   ]
  },
  {
   "cell_type": "code",
   "execution_count": 16,
   "id": "adapted-mobility",
   "metadata": {},
   "outputs": [
    {
     "data": {
      "text/plain": [
       "(3003, 9)"
      ]
     },
     "execution_count": 16,
     "metadata": {},
     "output_type": "execute_result"
    }
   ],
   "source": [
    "df2.shape"
   ]
  },
  {
   "cell_type": "code",
   "execution_count": 17,
   "id": "lesser-desert",
   "metadata": {},
   "outputs": [
    {
     "name": "stderr",
     "output_type": "stream",
     "text": [
      "C:\\Users\\HP\\Anaconda3\\envs\\dataanalyticspython\\lib\\site-packages\\pandas\\core\\frame.py:4308: SettingWithCopyWarning: \n",
      "A value is trying to be set on a copy of a slice from a DataFrame\n",
      "\n",
      "See the caveats in the documentation: https://pandas.pydata.org/pandas-docs/stable/user_guide/indexing.html#returning-a-view-versus-a-copy\n",
      "  return super().drop(\n"
     ]
    }
   ],
   "source": [
    "df2.drop(columns=[\"recipient_region_code\"], inplace= True)"
   ]
  },
  {
   "cell_type": "code",
   "execution_count": 18,
   "id": "herbal-heath",
   "metadata": {},
   "outputs": [
    {
     "name": "stderr",
     "output_type": "stream",
     "text": [
      "<ipython-input-18-02aa3c8458e3>:1: SettingWithCopyWarning: \n",
      "A value is trying to be set on a copy of a slice from a DataFrame\n",
      "\n",
      "See the caveats in the documentation: https://pandas.pydata.org/pandas-docs/stable/user_guide/indexing.html#returning-a-view-versus-a-copy\n",
      "  df2.dropna(axis=0,subset=['sector_code'], inplace=True)\n"
     ]
    }
   ],
   "source": [
    "df2.dropna(axis=0,subset=['sector_code'], inplace=True)"
   ]
  },
  {
   "cell_type": "code",
   "execution_count": 19,
   "id": "geological-turtle",
   "metadata": {},
   "outputs": [
    {
     "data": {
      "text/plain": [
       "<AxesSubplot:>"
      ]
     },
     "execution_count": 19,
     "metadata": {},
     "output_type": "execute_result"
    },
    {
     "data": {
      "image/png": "[encoded data removed]",
      "text/plain": [
       "<Figure size 1800x720 with 2 Axes>"
      ]
     },
     "metadata": {
      "needs_background": "light"
     },
     "output_type": "display_data"
    }
   ],
   "source": [
    "msno.matrix(df2)"
   ]
  },
  {
   "cell_type": "code",
   "execution_count": 20,
   "id": "peaceful-hydrogen",
   "metadata": {},
   "outputs": [
    {
     "data": {
      "text/plain": [
       "(3000, 8)"
      ]
     },
     "execution_count": 20,
     "metadata": {},
     "output_type": "execute_result"
    }
   ],
   "source": [
    "df2.shape"
   ]
  },
  {
   "cell_type": "code",
   "execution_count": 22,
   "id": "casual-lancaster",
   "metadata": {},
   "outputs": [
    {
     "data": {
      "text/html": [
       "<div>\n",
       "<style scoped>\n",
       "    .dataframe tbody tr th:only-of-type {\n",
       "        vertical-align: middle;\n",
       "    }\n",
       "\n",
       "    .dataframe tbody tr th {\n",
       "        vertical-align: top;\n",
       "    }\n",
       "\n",
       "    .dataframe thead th {\n",
       "        text-align: right;\n",
       "    }\n",
       "</style>\n",
       "<table border=\"1\" class=\"dataframe\">\n",
       "  <thead>\n",
       "    <tr style=\"text-align: right;\">\n",
       "      <th></th>\n",
       "      <th>iati_identifier</th>\n",
       "      <th>title_narrative</th>\n",
       "      <th>activity_status_code</th>\n",
       "      <th>sector_code</th>\n",
       "      <th>reporting_org_type_name</th>\n",
       "      <th>budget_value_usd_sum</th>\n",
       "      <th>recipient_country_name</th>\n",
       "      <th>recipient_country_percentage</th>\n",
       "    </tr>\n",
       "  </thead>\n",
       "  <tbody>\n",
       "    <tr>\n",
       "      <th>2</th>\n",
       "      <td>ES-DIR3-E04585801-009-031721</td>\n",
       "      <td>PROYECTO: Mejora de condiciones económicas de ...</td>\n",
       "      <td>3</td>\n",
       "      <td>43040</td>\n",
       "      <td>Government</td>\n",
       "      <td>19190.51</td>\n",
       "      <td>Ghana</td>\n",
       "      <td>100.0</td>\n",
       "    </tr>\n",
       "    <tr>\n",
       "      <th>3</th>\n",
       "      <td>ES-DIR3-E04585801-009-002077</td>\n",
       "      <td>FORTALEC. DEL DESAR. INTEGRAL LOCAL MEDIANTE A...</td>\n",
       "      <td>3</td>\n",
       "      <td>41010,43040,16050</td>\n",
       "      <td>Government</td>\n",
       "      <td>68968.65</td>\n",
       "      <td>Morocco</td>\n",
       "      <td>99.0</td>\n",
       "    </tr>\n",
       "    <tr>\n",
       "      <th>4</th>\n",
       "      <td>ES-DIR3-E04585801-009-001991</td>\n",
       "      <td>DIVERSIFICACIÓN DE LAS FUENTES DE INGRESO Y ES...</td>\n",
       "      <td>3</td>\n",
       "      <td>43040</td>\n",
       "      <td>Government</td>\n",
       "      <td>46963.25</td>\n",
       "      <td>Morocco</td>\n",
       "      <td>100.0</td>\n",
       "    </tr>\n",
       "    <tr>\n",
       "      <th>5</th>\n",
       "      <td>ES-DIR3-E04585801-009-002079</td>\n",
       "      <td>APOYO AL DESARROLLO INTEGRAL DE LAS COMUNIDADE...</td>\n",
       "      <td>3</td>\n",
       "      <td>43040</td>\n",
       "      <td>Government</td>\n",
       "      <td>71340.62</td>\n",
       "      <td>Morocco</td>\n",
       "      <td>100.0</td>\n",
       "    </tr>\n",
       "    <tr>\n",
       "      <th>6</th>\n",
       "      <td>ES-DIR3-E04585801-009-041829</td>\n",
       "      <td>Fortalecimiento del desarrollo integral local ...</td>\n",
       "      <td>3</td>\n",
       "      <td>43040</td>\n",
       "      <td>Government</td>\n",
       "      <td>55382.05</td>\n",
       "      <td>Morocco</td>\n",
       "      <td>100.0</td>\n",
       "    </tr>\n",
       "  </tbody>\n",
       "</table>\n",
       "</div>"
      ],
      "text/plain": [
       "                iati_identifier  \\\n",
       "2  ES-DIR3-E04585801-009-031721   \n",
       "3  ES-DIR3-E04585801-009-002077   \n",
       "4  ES-DIR3-E04585801-009-001991   \n",
       "5  ES-DIR3-E04585801-009-002079   \n",
       "6  ES-DIR3-E04585801-009-041829   \n",
       "\n",
       "                                     title_narrative  activity_status_code  \\\n",
       "2  PROYECTO: Mejora de condiciones económicas de ...                     3   \n",
       "3  FORTALEC. DEL DESAR. INTEGRAL LOCAL MEDIANTE A...                     3   \n",
       "4  DIVERSIFICACIÓN DE LAS FUENTES DE INGRESO Y ES...                     3   \n",
       "5  APOYO AL DESARROLLO INTEGRAL DE LAS COMUNIDADE...                     3   \n",
       "6  Fortalecimiento del desarrollo integral local ...                     3   \n",
       "\n",
       "         sector_code reporting_org_type_name  budget_value_usd_sum  \\\n",
       "2              43040              Government              19190.51   \n",
       "3  41010,43040,16050              Government              68968.65   \n",
       "4              43040              Government              46963.25   \n",
       "5              43040              Government              71340.62   \n",
       "6              43040              Government              55382.05   \n",
       "\n",
       "  recipient_country_name recipient_country_percentage  \n",
       "2                  Ghana                        100.0  \n",
       "3                Morocco                         99.0  \n",
       "4                Morocco                        100.0  \n",
       "5                Morocco                        100.0  \n",
       "6                Morocco                        100.0  "
      ]
     },
     "execution_count": 22,
     "metadata": {},
     "output_type": "execute_result"
    }
   ],
   "source": []
  },
  {
   "cell_type": "code",
   "execution_count": 23,
   "id": "strong-silence",
   "metadata": {},
   "outputs": [],
   "source": [
    "df2.to_csv('world_bank_data_1.csv', index= False)"
   ]
  },
  {
   "cell_type": "code",
   "execution_count": 24,
   "id": "leading-dimension",
   "metadata": {},
   "outputs": [
    {
     "data": {
      "text/html": [
       "<div>\n",
       "<style scoped>\n",
       "    .dataframe tbody tr th:only-of-type {\n",
       "        vertical-align: middle;\n",
       "    }\n",
       "\n",
       "    .dataframe tbody tr th {\n",
       "        vertical-align: top;\n",
       "    }\n",
       "\n",
       "    .dataframe thead th {\n",
       "        text-align: right;\n",
       "    }\n",
       "</style>\n",
       "<table border=\"1\" class=\"dataframe\">\n",
       "  <thead>\n",
       "    <tr style=\"text-align: right;\">\n",
       "      <th></th>\n",
       "      <th>iati_identifier</th>\n",
       "      <th>title_narrative</th>\n",
       "      <th>activity_status_code</th>\n",
       "      <th>sector_code</th>\n",
       "      <th>reporting_org_type_name</th>\n",
       "      <th>budget_value_usd_sum</th>\n",
       "      <th>recipient_country_name</th>\n",
       "      <th>recipient_country_percentage</th>\n",
       "    </tr>\n",
       "  </thead>\n",
       "  <tbody>\n",
       "    <tr>\n",
       "      <th>0</th>\n",
       "      <td>ES-DIR3-E04585801-009-031721</td>\n",
       "      <td>PROYECTO: Mejora de condiciones económicas de ...</td>\n",
       "      <td>3</td>\n",
       "      <td>43040</td>\n",
       "      <td>Government</td>\n",
       "      <td>19190.51</td>\n",
       "      <td>Ghana</td>\n",
       "      <td>100.0</td>\n",
       "    </tr>\n",
       "    <tr>\n",
       "      <th>1</th>\n",
       "      <td>ES-DIR3-E04585801-009-002077</td>\n",
       "      <td>FORTALEC. DEL DESAR. INTEGRAL LOCAL MEDIANTE A...</td>\n",
       "      <td>3</td>\n",
       "      <td>41010,43040,16050</td>\n",
       "      <td>Government</td>\n",
       "      <td>68968.65</td>\n",
       "      <td>Morocco</td>\n",
       "      <td>99.0</td>\n",
       "    </tr>\n",
       "    <tr>\n",
       "      <th>2</th>\n",
       "      <td>ES-DIR3-E04585801-009-001991</td>\n",
       "      <td>DIVERSIFICACIÓN DE LAS FUENTES DE INGRESO Y ES...</td>\n",
       "      <td>3</td>\n",
       "      <td>43040</td>\n",
       "      <td>Government</td>\n",
       "      <td>46963.25</td>\n",
       "      <td>Morocco</td>\n",
       "      <td>100.0</td>\n",
       "    </tr>\n",
       "    <tr>\n",
       "      <th>3</th>\n",
       "      <td>ES-DIR3-E04585801-009-002079</td>\n",
       "      <td>APOYO AL DESARROLLO INTEGRAL DE LAS COMUNIDADE...</td>\n",
       "      <td>3</td>\n",
       "      <td>43040</td>\n",
       "      <td>Government</td>\n",
       "      <td>71340.62</td>\n",
       "      <td>Morocco</td>\n",
       "      <td>100.0</td>\n",
       "    </tr>\n",
       "    <tr>\n",
       "      <th>4</th>\n",
       "      <td>ES-DIR3-E04585801-009-041829</td>\n",
       "      <td>Fortalecimiento del desarrollo integral local ...</td>\n",
       "      <td>3</td>\n",
       "      <td>43040</td>\n",
       "      <td>Government</td>\n",
       "      <td>55382.05</td>\n",
       "      <td>Morocco</td>\n",
       "      <td>100.0</td>\n",
       "    </tr>\n",
       "  </tbody>\n",
       "</table>\n",
       "</div>"
      ],
      "text/plain": [
       "                iati_identifier  \\\n",
       "0  ES-DIR3-E04585801-009-031721   \n",
       "1  ES-DIR3-E04585801-009-002077   \n",
       "2  ES-DIR3-E04585801-009-001991   \n",
       "3  ES-DIR3-E04585801-009-002079   \n",
       "4  ES-DIR3-E04585801-009-041829   \n",
       "\n",
       "                                     title_narrative  activity_status_code  \\\n",
       "0  PROYECTO: Mejora de condiciones económicas de ...                     3   \n",
       "1  FORTALEC. DEL DESAR. INTEGRAL LOCAL MEDIANTE A...                     3   \n",
       "2  DIVERSIFICACIÓN DE LAS FUENTES DE INGRESO Y ES...                     3   \n",
       "3  APOYO AL DESARROLLO INTEGRAL DE LAS COMUNIDADE...                     3   \n",
       "4  Fortalecimiento del desarrollo integral local ...                     3   \n",
       "\n",
       "         sector_code reporting_org_type_name  budget_value_usd_sum  \\\n",
       "0              43040              Government              19190.51   \n",
       "1  41010,43040,16050              Government              68968.65   \n",
       "2              43040              Government              46963.25   \n",
       "3              43040              Government              71340.62   \n",
       "4              43040              Government              55382.05   \n",
       "\n",
       "  recipient_country_name recipient_country_percentage  \n",
       "0                  Ghana                        100.0  \n",
       "1                Morocco                         99.0  \n",
       "2                Morocco                        100.0  \n",
       "3                Morocco                        100.0  \n",
       "4                Morocco                        100.0  "
      ]
     },
     "execution_count": 24,
     "metadata": {},
     "output_type": "execute_result"
    }
   ],
   "source": [
    "df3 = pd.read_csv('world_bank_data_1.csv')\n",
    "df3.head()"
   ]
  },
  {
   "cell_type": "markdown",
   "id": "valid-filename",
   "metadata": {},
   "source": [
    "## ANOVA test"
   ]
  },
  {
   "cell_type": "markdown",
   "id": "medium-point",
   "metadata": {},
   "source": [
    "First, we would like to know which are the most common organization types for these projects "
   ]
  },
  {
   "cell_type": "code",
   "execution_count": 18,
   "id": "faced-housing",
   "metadata": {},
   "outputs": [
    {
     "data": {
      "text/plain": [
       "array(['Government', 'Multilateral', 'Private Sector',\n",
       "       'International NGO', 'National NGO', 'Other Public Sector',\n",
       "       'Foundation'], dtype=object)"
      ]
     },
     "execution_count": 18,
     "metadata": {},
     "output_type": "execute_result"
    }
   ],
   "source": [
    "df2.reporting_org_type_name.unique()"
   ]
  },
  {
   "cell_type": "code",
   "execution_count": 19,
   "id": "statistical-hampton",
   "metadata": {},
   "outputs": [
    {
     "data": {
      "text/plain": [
       "reporting_org_type_name\n",
       "Foundation                2\n",
       "Government             2795\n",
       "International NGO        18\n",
       "Multilateral            151\n",
       "National NGO             15\n",
       "Other Public Sector       9\n",
       "Private Sector           10\n",
       "Name: iati_identifier, dtype: int64"
      ]
     },
     "execution_count": 19,
     "metadata": {},
     "output_type": "execute_result"
    }
   ],
   "source": [
    "df2.groupby(by=['reporting_org_type_name'])['iati_identifier'].count()"
   ]
  },
  {
   "cell_type": "markdown",
   "id": "departmental-truck",
   "metadata": {},
   "source": [
    "As we can observe, the most common organizations are Government, Multilateral, International NGO, and National NGO. it is interesting to note if they come from the same population"
   ]
  },
  {
   "cell_type": "code",
   "execution_count": 20,
   "id": "funded-execution",
   "metadata": {},
   "outputs": [],
   "source": [
    "Government = df2[df2['reporting_org_type_name'] == 'Government']['budget_value_usd_sum'].values"
   ]
  },
  {
   "cell_type": "code",
   "execution_count": 21,
   "id": "solved-omaha",
   "metadata": {},
   "outputs": [],
   "source": [
    "Multilateral = df2[df2['reporting_org_type_name'] == 'Multilateral']['budget_value_usd_sum'].values"
   ]
  },
  {
   "cell_type": "code",
   "execution_count": 22,
   "id": "combined-biodiversity",
   "metadata": {},
   "outputs": [],
   "source": [
    "International = df2[df2['reporting_org_type_name'] == 'International NGO']['budget_value_usd_sum'].values"
   ]
  },
  {
   "cell_type": "code",
   "execution_count": 23,
   "id": "super-valve",
   "metadata": {},
   "outputs": [],
   "source": [
    "National = df2[df2['reporting_org_type_name'] == 'National NGO']['budget_value_usd_sum'].values"
   ]
  },
  {
   "cell_type": "code",
   "execution_count": 24,
   "id": "departmental-parent",
   "metadata": {},
   "outputs": [],
   "source": [
    "mg = np.mean(Government)\n",
    "\n",
    "mm = np.mean(Multilateral)\n",
    "\n",
    "mi = np.mean(International)\n",
    "\n",
    "mn = np.mean(National)"
   ]
  },
  {
   "cell_type": "markdown",
   "id": "designed-saudi",
   "metadata": {},
   "source": [
    "To perform one way ANOVA test the following assumptions must be considered:\n",
    "1. The samples are independent.\n",
    "2. Each sample is from a normally distributed population.\n",
    "3. The population standard deviations of the groups are all equal.  This\n",
    "   property is known as homoscedasticity."
   ]
  },
  {
   "cell_type": "code",
   "execution_count": 29,
   "id": "aggregate-addiction",
   "metadata": {},
   "outputs": [
    {
     "data": {
      "text/plain": [
       "ShapiroResult(statistic=0.2896985411643982, pvalue=0.0)"
      ]
     },
     "execution_count": 29,
     "metadata": {},
     "output_type": "execute_result"
    }
   ],
   "source": [
    "shapiro(Government)"
   ]
  },
  {
   "cell_type": "code",
   "execution_count": 30,
   "id": "everyday-settlement",
   "metadata": {},
   "outputs": [
    {
     "data": {
      "text/plain": [
       "ShapiroResult(statistic=0.6246447563171387, pvalue=4.82564430782003e-18)"
      ]
     },
     "execution_count": 30,
     "metadata": {},
     "output_type": "execute_result"
    }
   ],
   "source": [
    "shapiro(Multilateral)"
   ]
  },
  {
   "cell_type": "code",
   "execution_count": 31,
   "id": "elegant-resort",
   "metadata": {},
   "outputs": [
    {
     "data": {
      "text/plain": [
       "ShapiroResult(statistic=0.41590720415115356, pvalue=1.6185269657853496e-07)"
      ]
     },
     "execution_count": 31,
     "metadata": {},
     "output_type": "execute_result"
    }
   ],
   "source": [
    "shapiro(International)"
   ]
  },
  {
   "cell_type": "code",
   "execution_count": 32,
   "id": "advisory-principal",
   "metadata": {},
   "outputs": [
    {
     "data": {
      "text/plain": [
       "ShapiroResult(statistic=0.80082768201828, pvalue=0.0037673553451895714)"
      ]
     },
     "execution_count": 32,
     "metadata": {},
     "output_type": "execute_result"
    }
   ],
   "source": [
    "shapiro(National)"
   ]
  },
  {
   "cell_type": "code",
   "execution_count": 33,
   "id": "alien-request",
   "metadata": {},
   "outputs": [
    {
     "data": {
      "text/plain": [
       "F_onewayResult(statistic=442.89224575763285, pvalue=7.232836505573012e-238)"
      ]
     },
     "execution_count": 33,
     "metadata": {},
     "output_type": "execute_result"
    }
   ],
   "source": [
    "stats.f_oneway(Government, Multilateral, International, National)"
   ]
  },
  {
   "cell_type": "markdown",
   "id": "indonesian-vacuum",
   "metadata": {},
   "source": [
    "## K means clustering "
   ]
  },
  {
   "cell_type": "code",
   "execution_count": 34,
   "id": "plastic-clinton",
   "metadata": {},
   "outputs": [
    {
     "data": {
      "text/html": [
       "<div>\n",
       "<style scoped>\n",
       "    .dataframe tbody tr th:only-of-type {\n",
       "        vertical-align: middle;\n",
       "    }\n",
       "\n",
       "    .dataframe tbody tr th {\n",
       "        vertical-align: top;\n",
       "    }\n",
       "\n",
       "    .dataframe thead th {\n",
       "        text-align: right;\n",
       "    }\n",
       "</style>\n",
       "<table border=\"1\" class=\"dataframe\">\n",
       "  <thead>\n",
       "    <tr style=\"text-align: right;\">\n",
       "      <th></th>\n",
       "      <th>iati_identifier</th>\n",
       "      <th>title_narrative</th>\n",
       "      <th>activity_status_code</th>\n",
       "      <th>sector_code</th>\n",
       "      <th>reporting_org_type_name</th>\n",
       "      <th>budget_value_usd_sum</th>\n",
       "      <th>recipient_country_name</th>\n",
       "      <th>recipient_country_percentage</th>\n",
       "    </tr>\n",
       "  </thead>\n",
       "  <tbody>\n",
       "    <tr>\n",
       "      <th>2</th>\n",
       "      <td>ES-DIR3-E04585801-009-031721</td>\n",
       "      <td>PROYECTO: Mejora de condiciones económicas de ...</td>\n",
       "      <td>3</td>\n",
       "      <td>43040</td>\n",
       "      <td>Government</td>\n",
       "      <td>19190.51</td>\n",
       "      <td>Ghana</td>\n",
       "      <td>100.0</td>\n",
       "    </tr>\n",
       "    <tr>\n",
       "      <th>3</th>\n",
       "      <td>ES-DIR3-E04585801-009-002077</td>\n",
       "      <td>FORTALEC. DEL DESAR. INTEGRAL LOCAL MEDIANTE A...</td>\n",
       "      <td>3</td>\n",
       "      <td>41010,43040,16050</td>\n",
       "      <td>Government</td>\n",
       "      <td>68968.65</td>\n",
       "      <td>Morocco</td>\n",
       "      <td>99.0</td>\n",
       "    </tr>\n",
       "    <tr>\n",
       "      <th>4</th>\n",
       "      <td>ES-DIR3-E04585801-009-001991</td>\n",
       "      <td>DIVERSIFICACIÓN DE LAS FUENTES DE INGRESO Y ES...</td>\n",
       "      <td>3</td>\n",
       "      <td>43040</td>\n",
       "      <td>Government</td>\n",
       "      <td>46963.25</td>\n",
       "      <td>Morocco</td>\n",
       "      <td>100.0</td>\n",
       "    </tr>\n",
       "    <tr>\n",
       "      <th>5</th>\n",
       "      <td>ES-DIR3-E04585801-009-002079</td>\n",
       "      <td>APOYO AL DESARROLLO INTEGRAL DE LAS COMUNIDADE...</td>\n",
       "      <td>3</td>\n",
       "      <td>43040</td>\n",
       "      <td>Government</td>\n",
       "      <td>71340.62</td>\n",
       "      <td>Morocco</td>\n",
       "      <td>100.0</td>\n",
       "    </tr>\n",
       "    <tr>\n",
       "      <th>6</th>\n",
       "      <td>ES-DIR3-E04585801-009-041829</td>\n",
       "      <td>Fortalecimiento del desarrollo integral local ...</td>\n",
       "      <td>3</td>\n",
       "      <td>43040</td>\n",
       "      <td>Government</td>\n",
       "      <td>55382.05</td>\n",
       "      <td>Morocco</td>\n",
       "      <td>100.0</td>\n",
       "    </tr>\n",
       "  </tbody>\n",
       "</table>\n",
       "</div>"
      ],
      "text/plain": [
       "                iati_identifier  \\\n",
       "2  ES-DIR3-E04585801-009-031721   \n",
       "3  ES-DIR3-E04585801-009-002077   \n",
       "4  ES-DIR3-E04585801-009-001991   \n",
       "5  ES-DIR3-E04585801-009-002079   \n",
       "6  ES-DIR3-E04585801-009-041829   \n",
       "\n",
       "                                     title_narrative  activity_status_code  \\\n",
       "2  PROYECTO: Mejora de condiciones económicas de ...                     3   \n",
       "3  FORTALEC. DEL DESAR. INTEGRAL LOCAL MEDIANTE A...                     3   \n",
       "4  DIVERSIFICACIÓN DE LAS FUENTES DE INGRESO Y ES...                     3   \n",
       "5  APOYO AL DESARROLLO INTEGRAL DE LAS COMUNIDADE...                     3   \n",
       "6  Fortalecimiento del desarrollo integral local ...                     3   \n",
       "\n",
       "         sector_code reporting_org_type_name  budget_value_usd_sum  \\\n",
       "2              43040              Government              19190.51   \n",
       "3  41010,43040,16050              Government              68968.65   \n",
       "4              43040              Government              46963.25   \n",
       "5              43040              Government              71340.62   \n",
       "6              43040              Government              55382.05   \n",
       "\n",
       "  recipient_country_name recipient_country_percentage  \n",
       "2                  Ghana                        100.0  \n",
       "3                Morocco                         99.0  \n",
       "4                Morocco                        100.0  \n",
       "5                Morocco                        100.0  \n",
       "6                Morocco                        100.0  "
      ]
     },
     "execution_count": 34,
     "metadata": {},
     "output_type": "execute_result"
    }
   ],
   "source": [
    "df2.head()"
   ]
  },
  {
   "cell_type": "code",
   "execution_count": 35,
   "id": "affiliated-inflation",
   "metadata": {},
   "outputs": [],
   "source": [
    "cleaned = df2.set_index('iati_identifier').sector_code.str.split(',', expand=True).stack()"
   ]
  },
  {
   "cell_type": "code",
   "execution_count": 36,
   "id": "younger-inspection",
   "metadata": {},
   "outputs": [
    {
     "data": {
      "text/plain": [
       "iati_identifier                  \n",
       "ES-DIR3-E04585801-009-031721    0    43040\n",
       "ES-DIR3-E04585801-009-002077    0    41010\n",
       "                                1    43040\n",
       "                                2    16050\n",
       "ES-DIR3-E04585801-009-001991    0    43040\n",
       "                                     ...  \n",
       "SE-0-SE-6-7400054101-HND-43040  1    43040\n",
       "SE-0-SE-6-7400259101-HND-43040  0      430\n",
       "                                1    43040\n",
       "SE-0-SE-6-7400289701-HND-43040  0      430\n",
       "                                1    43040\n",
       "Length: 8560, dtype: object"
      ]
     },
     "execution_count": 36,
     "metadata": {},
     "output_type": "execute_result"
    }
   ],
   "source": [
    "cleaned"
   ]
  },
  {
   "cell_type": "code",
   "execution_count": 37,
   "id": "certified-hawaii",
   "metadata": {},
   "outputs": [],
   "source": [
    "kmeans_data = pd.get_dummies(cleaned, prefix='dummy').groupby(level=0).sum()"
   ]
  },
  {
   "cell_type": "code",
   "execution_count": 38,
   "id": "conscious-profit",
   "metadata": {},
   "outputs": [
    {
     "data": {
      "text/html": [
       "<div>\n",
       "<style scoped>\n",
       "    .dataframe tbody tr th:only-of-type {\n",
       "        vertical-align: middle;\n",
       "    }\n",
       "\n",
       "    .dataframe tbody tr th {\n",
       "        vertical-align: top;\n",
       "    }\n",
       "\n",
       "    .dataframe thead th {\n",
       "        text-align: right;\n",
       "    }\n",
       "</style>\n",
       "<table border=\"1\" class=\"dataframe\">\n",
       "  <thead>\n",
       "    <tr style=\"text-align: right;\">\n",
       "      <th></th>\n",
       "      <th>dummy_000011</th>\n",
       "      <th>dummy_000014</th>\n",
       "      <th>dummy_000021</th>\n",
       "      <th>dummy_000022</th>\n",
       "      <th>dummy_000023</th>\n",
       "      <th>dummy_000024</th>\n",
       "      <th>dummy_000025</th>\n",
       "      <th>dummy_000026</th>\n",
       "      <th>dummy_000031</th>\n",
       "      <th>dummy_000032</th>\n",
       "      <th>...</th>\n",
       "      <th>dummy_wa</th>\n",
       "      <th>dummy_wc</th>\n",
       "      <th>dummy_wf</th>\n",
       "      <th>dummy_wz</th>\n",
       "      <th>dummy_ya</th>\n",
       "      <th>dummy_yf</th>\n",
       "      <th>dummy_yh</th>\n",
       "      <th>dummy_yt</th>\n",
       "      <th>dummy_yy</th>\n",
       "      <th>dummy_yz</th>\n",
       "    </tr>\n",
       "    <tr>\n",
       "      <th>iati_identifier</th>\n",
       "      <th></th>\n",
       "      <th></th>\n",
       "      <th></th>\n",
       "      <th></th>\n",
       "      <th></th>\n",
       "      <th></th>\n",
       "      <th></th>\n",
       "      <th></th>\n",
       "      <th></th>\n",
       "      <th></th>\n",
       "      <th></th>\n",
       "      <th></th>\n",
       "      <th></th>\n",
       "      <th></th>\n",
       "      <th></th>\n",
       "      <th></th>\n",
       "      <th></th>\n",
       "      <th></th>\n",
       "      <th></th>\n",
       "      <th></th>\n",
       "      <th></th>\n",
       "    </tr>\n",
       "  </thead>\n",
       "  <tbody>\n",
       "    <tr>\n",
       "      <th>44000-P040653</th>\n",
       "      <td>0</td>\n",
       "      <td>0</td>\n",
       "      <td>0</td>\n",
       "      <td>1</td>\n",
       "      <td>0</td>\n",
       "      <td>1</td>\n",
       "      <td>0</td>\n",
       "      <td>0</td>\n",
       "      <td>0</td>\n",
       "      <td>0</td>\n",
       "      <td>...</td>\n",
       "      <td>0</td>\n",
       "      <td>0</td>\n",
       "      <td>0</td>\n",
       "      <td>1</td>\n",
       "      <td>1</td>\n",
       "      <td>0</td>\n",
       "      <td>0</td>\n",
       "      <td>0</td>\n",
       "      <td>0</td>\n",
       "      <td>0</td>\n",
       "    </tr>\n",
       "    <tr>\n",
       "      <th>44000-P065129</th>\n",
       "      <td>0</td>\n",
       "      <td>0</td>\n",
       "      <td>0</td>\n",
       "      <td>1</td>\n",
       "      <td>0</td>\n",
       "      <td>0</td>\n",
       "      <td>0</td>\n",
       "      <td>0</td>\n",
       "      <td>0</td>\n",
       "      <td>0</td>\n",
       "      <td>...</td>\n",
       "      <td>0</td>\n",
       "      <td>0</td>\n",
       "      <td>0</td>\n",
       "      <td>1</td>\n",
       "      <td>0</td>\n",
       "      <td>0</td>\n",
       "      <td>0</td>\n",
       "      <td>0</td>\n",
       "      <td>0</td>\n",
       "      <td>0</td>\n",
       "    </tr>\n",
       "    <tr>\n",
       "      <th>44000-P071144</th>\n",
       "      <td>0</td>\n",
       "      <td>1</td>\n",
       "      <td>1</td>\n",
       "      <td>0</td>\n",
       "      <td>0</td>\n",
       "      <td>0</td>\n",
       "      <td>0</td>\n",
       "      <td>0</td>\n",
       "      <td>0</td>\n",
       "      <td>0</td>\n",
       "      <td>...</td>\n",
       "      <td>0</td>\n",
       "      <td>0</td>\n",
       "      <td>0</td>\n",
       "      <td>0</td>\n",
       "      <td>0</td>\n",
       "      <td>0</td>\n",
       "      <td>0</td>\n",
       "      <td>0</td>\n",
       "      <td>0</td>\n",
       "      <td>0</td>\n",
       "    </tr>\n",
       "    <tr>\n",
       "      <th>44000-P073886</th>\n",
       "      <td>0</td>\n",
       "      <td>0</td>\n",
       "      <td>0</td>\n",
       "      <td>1</td>\n",
       "      <td>0</td>\n",
       "      <td>0</td>\n",
       "      <td>0</td>\n",
       "      <td>0</td>\n",
       "      <td>0</td>\n",
       "      <td>0</td>\n",
       "      <td>...</td>\n",
       "      <td>0</td>\n",
       "      <td>0</td>\n",
       "      <td>0</td>\n",
       "      <td>0</td>\n",
       "      <td>1</td>\n",
       "      <td>0</td>\n",
       "      <td>0</td>\n",
       "      <td>0</td>\n",
       "      <td>0</td>\n",
       "      <td>0</td>\n",
       "    </tr>\n",
       "    <tr>\n",
       "      <th>44000-P074011</th>\n",
       "      <td>0</td>\n",
       "      <td>1</td>\n",
       "      <td>0</td>\n",
       "      <td>0</td>\n",
       "      <td>0</td>\n",
       "      <td>0</td>\n",
       "      <td>1</td>\n",
       "      <td>0</td>\n",
       "      <td>0</td>\n",
       "      <td>0</td>\n",
       "      <td>...</td>\n",
       "      <td>0</td>\n",
       "      <td>0</td>\n",
       "      <td>0</td>\n",
       "      <td>0</td>\n",
       "      <td>0</td>\n",
       "      <td>0</td>\n",
       "      <td>0</td>\n",
       "      <td>0</td>\n",
       "      <td>0</td>\n",
       "      <td>0</td>\n",
       "    </tr>\n",
       "  </tbody>\n",
       "</table>\n",
       "<p>5 rows × 344 columns</p>\n",
       "</div>"
      ],
      "text/plain": [
       "                 dummy_000011  dummy_000014  dummy_000021  dummy_000022  \\\n",
       "iati_identifier                                                           \n",
       "44000-P040653               0             0             0             1   \n",
       "44000-P065129               0             0             0             1   \n",
       "44000-P071144               0             1             1             0   \n",
       "44000-P073886               0             0             0             1   \n",
       "44000-P074011               0             1             0             0   \n",
       "\n",
       "                 dummy_000023  dummy_000024  dummy_000025  dummy_000026  \\\n",
       "iati_identifier                                                           \n",
       "44000-P040653               0             1             0             0   \n",
       "44000-P065129               0             0             0             0   \n",
       "44000-P071144               0             0             0             0   \n",
       "44000-P073886               0             0             0             0   \n",
       "44000-P074011               0             0             1             0   \n",
       "\n",
       "                 dummy_000031  dummy_000032  ...  dummy_wa  dummy_wc  \\\n",
       "iati_identifier                              ...                       \n",
       "44000-P040653               0             0  ...         0         0   \n",
       "44000-P065129               0             0  ...         0         0   \n",
       "44000-P071144               0             0  ...         0         0   \n",
       "44000-P073886               0             0  ...         0         0   \n",
       "44000-P074011               0             0  ...         0         0   \n",
       "\n",
       "                 dummy_wf  dummy_wz  dummy_ya  dummy_yf  dummy_yh  dummy_yt  \\\n",
       "iati_identifier                                                               \n",
       "44000-P040653           0         1         1         0         0         0   \n",
       "44000-P065129           0         1         0         0         0         0   \n",
       "44000-P071144           0         0         0         0         0         0   \n",
       "44000-P073886           0         0         1         0         0         0   \n",
       "44000-P074011           0         0         0         0         0         0   \n",
       "\n",
       "                 dummy_yy  dummy_yz  \n",
       "iati_identifier                      \n",
       "44000-P040653           0         0  \n",
       "44000-P065129           0         0  \n",
       "44000-P071144           0         0  \n",
       "44000-P073886           0         0  \n",
       "44000-P074011           0         0  \n",
       "\n",
       "[5 rows x 344 columns]"
      ]
     },
     "execution_count": 38,
     "metadata": {},
     "output_type": "execute_result"
    }
   ],
   "source": [
    "kmeans_data.head()"
   ]
  },
  {
   "cell_type": "code",
   "execution_count": 39,
   "id": "capable-command",
   "metadata": {},
   "outputs": [],
   "source": [
    "kmeans = KMeans(n_clusters=10, random_state=0).fit(kmeans_data)"
   ]
  },
  {
   "cell_type": "code",
   "execution_count": 40,
   "id": "varied-feature",
   "metadata": {},
   "outputs": [
    {
     "data": {
      "text/plain": [
       "array([6, 6, 8, ..., 4, 4, 4])"
      ]
     },
     "execution_count": 40,
     "metadata": {},
     "output_type": "execute_result"
    }
   ],
   "source": [
    "kmeans.labels_"
   ]
  },
  {
   "cell_type": "code",
   "execution_count": 41,
   "id": "julian-barbados",
   "metadata": {},
   "outputs": [],
   "source": [
    "kmeans_kwargs = {\n",
    "    \"init\": \"random\",\n",
    "    \"n_init\": 10,\n",
    "    \"max_iter\": 3000,\n",
    "    \"random_state\": 42,\n",
    "    }\n",
    "\n",
    "# A list holds the SSE values for each k\n",
    "\n",
    "sse = []\n",
    "for k in range(1, 20):\n",
    "    kmeans = KMeans(n_clusters=k, **kmeans_kwargs)\n",
    "    kmeans.fit(kmeans_data)\n",
    "    sse.append(kmeans.inertia_)"
   ]
  },
  {
   "cell_type": "code",
   "execution_count": 42,
   "id": "laden-diana",
   "metadata": {},
   "outputs": [
    {
     "data": {
      "image/png": "[encoded data removed]",
      "text/plain": [
       "<Figure size 432x288 with 1 Axes>"
      ]
     },
     "metadata": {},
     "output_type": "display_data"
    }
   ],
   "source": [
    "plt.style.use(\"fivethirtyeight\")\n",
    "plt.plot(range(1, 20), sse)\n",
    "#plt.figure(figsize=(10, 10))\n",
    "plt.xticks(range(1, 20))\n",
    "plt.xlabel(\"Number of Clusters\")\n",
    "plt.ylabel(\"SSE\")\n",
    "plt.show()"
   ]
  },
  {
   "cell_type": "markdown",
   "id": "possible-marine",
   "metadata": {},
   "source": [
    "One insight from this journey is that this real database is available to cluster all the project categories using four clusters"
   ]
  },
  {
   "cell_type": "markdown",
   "id": "stopped-mainstream",
   "metadata": {},
   "source": [
    "##  Code for Activity Status"
   ]
  },
  {
   "cell_type": "markdown",
   "id": "developing-instrument",
   "metadata": {},
   "source": [
    "1\tPipeline/identification\tThe activity is being scoped or planned\n",
    "\n",
    "2\tImplementation\t        The activity is currently being implemented\n",
    "\n",
    "3\tFinalisation\t        Physical activity is complete or the final disbursement has been made, but the activity remains open pending financial sign off or M&E\n",
    "\n",
    "4\tClosed\t                Physical activity is complete or the final disbursement has been made.\n",
    "\n",
    "5\tCancelled\t            The activity has been cancelled\n",
    "\n",
    "6\tSuspended\t            The activity has been temporarily suspended"
   ]
  },
  {
   "cell_type": "code",
   "execution_count": 43,
   "id": "illegal-revelation",
   "metadata": {},
   "outputs": [],
   "source": [
    "df3 = pd.read_csv('data_wb.csv')\n"
   ]
  },
  {
   "cell_type": "code",
   "execution_count": 44,
   "id": "appropriate-adams",
   "metadata": {},
   "outputs": [
    {
     "data": {
      "text/html": [
       "<div>\n",
       "<style scoped>\n",
       "    .dataframe tbody tr th:only-of-type {\n",
       "        vertical-align: middle;\n",
       "    }\n",
       "\n",
       "    .dataframe tbody tr th {\n",
       "        vertical-align: top;\n",
       "    }\n",
       "\n",
       "    .dataframe thead th {\n",
       "        text-align: right;\n",
       "    }\n",
       "</style>\n",
       "<table border=\"1\" class=\"dataframe\">\n",
       "  <thead>\n",
       "    <tr style=\"text-align: right;\">\n",
       "      <th></th>\n",
       "      <th>iati_identifier</th>\n",
       "      <th>title_narrative</th>\n",
       "      <th>title_narrative_lang</th>\n",
       "      <th>title_xml</th>\n",
       "      <th>activity_status_code</th>\n",
       "      <th>activity_scope_code</th>\n",
       "      <th>capital_spend_percentage</th>\n",
       "      <th>last_updated_datetime</th>\n",
       "      <th>sector_vocabulary</th>\n",
       "      <th>participating_org_narrative_lang</th>\n",
       "      <th>...</th>\n",
       "      <th>recipient_country_xml</th>\n",
       "      <th>recipient_country_name</th>\n",
       "      <th>recipient_country_percentage</th>\n",
       "      <th>recipient_country_code</th>\n",
       "      <th>recipient_region_narrative</th>\n",
       "      <th>recipient_region_narrative_lang</th>\n",
       "      <th>recipient_region_narrative_text</th>\n",
       "      <th>recipient_country_narrative</th>\n",
       "      <th>recipient_country_narrative_text</th>\n",
       "      <th>recipient_country_narrative_lang</th>\n",
       "    </tr>\n",
       "  </thead>\n",
       "  <tbody>\n",
       "    <tr>\n",
       "      <th>0</th>\n",
       "      <td>XI-IATI-WBTF-TF070850</td>\n",
       "      <td>Australian Trust Fund for Solomon Islands Rura...</td>\n",
       "      <td>en</td>\n",
       "      <td>&lt;title&gt;&lt;narrative&gt;Australian Trust Fund for So...</td>\n",
       "      <td>2</td>\n",
       "      <td>4.0</td>\n",
       "      <td>NaN</td>\n",
       "      <td>2021-03-12T02:15:23Z</td>\n",
       "      <td>1,1,1,1,1,1,1,1,1,1</td>\n",
       "      <td>en,en</td>\n",
       "      <td>...</td>\n",
       "      <td>&lt;recipient-country code=\"SB\"&gt;&lt;narrative&gt;SOLOMO...</td>\n",
       "      <td>Solomon Islands</td>\n",
       "      <td>NaN</td>\n",
       "      <td>SB</td>\n",
       "      <td>NaN</td>\n",
       "      <td>NaN</td>\n",
       "      <td>NaN</td>\n",
       "      <td>SOLOMON ISLANDS</td>\n",
       "      <td>SOLOMON ISLANDS</td>\n",
       "      <td>en</td>\n",
       "    </tr>\n",
       "    <tr>\n",
       "      <th>2</th>\n",
       "      <td>ES-DIR3-E04585801-009-031721</td>\n",
       "      <td>PROYECTO: Mejora de condiciones económicas de ...</td>\n",
       "      <td>es</td>\n",
       "      <td>&lt;title&gt;&lt;narrative&gt;PROYECTO: Mejora de condicio...</td>\n",
       "      <td>3</td>\n",
       "      <td>NaN</td>\n",
       "      <td>NaN</td>\n",
       "      <td>NaN</td>\n",
       "      <td>1</td>\n",
       "      <td>en,en,en,en,en</td>\n",
       "      <td>...</td>\n",
       "      <td>&lt;recipient-country code=\"GH\" percentage=\"100\" /&gt;</td>\n",
       "      <td>Ghana</td>\n",
       "      <td>100.0</td>\n",
       "      <td>GH</td>\n",
       "      <td>NaN</td>\n",
       "      <td>NaN</td>\n",
       "      <td>NaN</td>\n",
       "      <td>NaN</td>\n",
       "      <td>NaN</td>\n",
       "      <td>NaN</td>\n",
       "    </tr>\n",
       "    <tr>\n",
       "      <th>3</th>\n",
       "      <td>ES-DIR3-E04585801-009-002077</td>\n",
       "      <td>FORTALEC. DEL DESAR. INTEGRAL LOCAL MEDIANTE A...</td>\n",
       "      <td>es</td>\n",
       "      <td>&lt;title&gt;&lt;narrative&gt;FORTALEC. DEL DESAR. INTEGRA...</td>\n",
       "      <td>3</td>\n",
       "      <td>NaN</td>\n",
       "      <td>NaN</td>\n",
       "      <td>NaN</td>\n",
       "      <td>1,1,1</td>\n",
       "      <td>en,en,en,en</td>\n",
       "      <td>...</td>\n",
       "      <td>&lt;recipient-country code=\"MA\" percentage=\"99\" /&gt;</td>\n",
       "      <td>Morocco</td>\n",
       "      <td>99.0</td>\n",
       "      <td>MA</td>\n",
       "      <td>NaN</td>\n",
       "      <td>NaN</td>\n",
       "      <td>NaN</td>\n",
       "      <td>NaN</td>\n",
       "      <td>NaN</td>\n",
       "      <td>NaN</td>\n",
       "    </tr>\n",
       "    <tr>\n",
       "      <th>4</th>\n",
       "      <td>ES-DIR3-E04585801-009-001991</td>\n",
       "      <td>DIVERSIFICACIÓN DE LAS FUENTES DE INGRESO Y ES...</td>\n",
       "      <td>es</td>\n",
       "      <td>&lt;title&gt;&lt;narrative&gt;DIVERSIFICACI&amp;#211;N DE LAS ...</td>\n",
       "      <td>3</td>\n",
       "      <td>NaN</td>\n",
       "      <td>NaN</td>\n",
       "      <td>NaN</td>\n",
       "      <td>1</td>\n",
       "      <td>en,en,en,en</td>\n",
       "      <td>...</td>\n",
       "      <td>&lt;recipient-country code=\"MA\" percentage=\"100\" /&gt;</td>\n",
       "      <td>Morocco</td>\n",
       "      <td>100.0</td>\n",
       "      <td>MA</td>\n",
       "      <td>NaN</td>\n",
       "      <td>NaN</td>\n",
       "      <td>NaN</td>\n",
       "      <td>NaN</td>\n",
       "      <td>NaN</td>\n",
       "      <td>NaN</td>\n",
       "    </tr>\n",
       "    <tr>\n",
       "      <th>5</th>\n",
       "      <td>ES-DIR3-E04585801-009-002079</td>\n",
       "      <td>APOYO AL DESARROLLO INTEGRAL DE LAS COMUNIDADE...</td>\n",
       "      <td>es</td>\n",
       "      <td>&lt;title&gt;&lt;narrative&gt;APOYO AL DESARROLLO INTEGRAL...</td>\n",
       "      <td>3</td>\n",
       "      <td>NaN</td>\n",
       "      <td>NaN</td>\n",
       "      <td>NaN</td>\n",
       "      <td>1</td>\n",
       "      <td>en,en,en,en</td>\n",
       "      <td>...</td>\n",
       "      <td>&lt;recipient-country code=\"MA\" percentage=\"100\" /&gt;</td>\n",
       "      <td>Morocco</td>\n",
       "      <td>100.0</td>\n",
       "      <td>MA</td>\n",
       "      <td>NaN</td>\n",
       "      <td>NaN</td>\n",
       "      <td>NaN</td>\n",
       "      <td>NaN</td>\n",
       "      <td>NaN</td>\n",
       "      <td>NaN</td>\n",
       "    </tr>\n",
       "  </tbody>\n",
       "</table>\n",
       "<p>5 rows × 62 columns</p>\n",
       "</div>"
      ],
      "text/plain": [
       "                iati_identifier  \\\n",
       "0         XI-IATI-WBTF-TF070850   \n",
       "2  ES-DIR3-E04585801-009-031721   \n",
       "3  ES-DIR3-E04585801-009-002077   \n",
       "4  ES-DIR3-E04585801-009-001991   \n",
       "5  ES-DIR3-E04585801-009-002079   \n",
       "\n",
       "                                     title_narrative title_narrative_lang  \\\n",
       "0  Australian Trust Fund for Solomon Islands Rura...                   en   \n",
       "2  PROYECTO: Mejora de condiciones económicas de ...                   es   \n",
       "3  FORTALEC. DEL DESAR. INTEGRAL LOCAL MEDIANTE A...                   es   \n",
       "4  DIVERSIFICACIÓN DE LAS FUENTES DE INGRESO Y ES...                   es   \n",
       "5  APOYO AL DESARROLLO INTEGRAL DE LAS COMUNIDADE...                   es   \n",
       "\n",
       "                                           title_xml  activity_status_code  \\\n",
       "0  <title><narrative>Australian Trust Fund for So...                     2   \n",
       "2  <title><narrative>PROYECTO: Mejora de condicio...                     3   \n",
       "3  <title><narrative>FORTALEC. DEL DESAR. INTEGRA...                     3   \n",
       "4  <title><narrative>DIVERSIFICACI&#211;N DE LAS ...                     3   \n",
       "5  <title><narrative>APOYO AL DESARROLLO INTEGRAL...                     3   \n",
       "\n",
       "   activity_scope_code  capital_spend_percentage last_updated_datetime  \\\n",
       "0                  4.0                       NaN  2021-03-12T02:15:23Z   \n",
       "2                  NaN                       NaN                   NaN   \n",
       "3                  NaN                       NaN                   NaN   \n",
       "4                  NaN                       NaN                   NaN   \n",
       "5                  NaN                       NaN                   NaN   \n",
       "\n",
       "     sector_vocabulary participating_org_narrative_lang  ...  \\\n",
       "0  1,1,1,1,1,1,1,1,1,1                            en,en  ...   \n",
       "2                    1                   en,en,en,en,en  ...   \n",
       "3                1,1,1                      en,en,en,en  ...   \n",
       "4                    1                      en,en,en,en  ...   \n",
       "5                    1                      en,en,en,en  ...   \n",
       "\n",
       "                               recipient_country_xml recipient_country_name  \\\n",
       "0  <recipient-country code=\"SB\"><narrative>SOLOMO...        Solomon Islands   \n",
       "2   <recipient-country code=\"GH\" percentage=\"100\" />                  Ghana   \n",
       "3    <recipient-country code=\"MA\" percentage=\"99\" />                Morocco   \n",
       "4   <recipient-country code=\"MA\" percentage=\"100\" />                Morocco   \n",
       "5   <recipient-country code=\"MA\" percentage=\"100\" />                Morocco   \n",
       "\n",
       "  recipient_country_percentage  recipient_country_code  \\\n",
       "0                          NaN                      SB   \n",
       "2                        100.0                      GH   \n",
       "3                         99.0                      MA   \n",
       "4                        100.0                      MA   \n",
       "5                        100.0                      MA   \n",
       "\n",
       "  recipient_region_narrative recipient_region_narrative_lang  \\\n",
       "0                        NaN                             NaN   \n",
       "2                        NaN                             NaN   \n",
       "3                        NaN                             NaN   \n",
       "4                        NaN                             NaN   \n",
       "5                        NaN                             NaN   \n",
       "\n",
       "  recipient_region_narrative_text recipient_country_narrative  \\\n",
       "0                             NaN             SOLOMON ISLANDS   \n",
       "2                             NaN                         NaN   \n",
       "3                             NaN                         NaN   \n",
       "4                             NaN                         NaN   \n",
       "5                             NaN                         NaN   \n",
       "\n",
       "  recipient_country_narrative_text recipient_country_narrative_lang  \n",
       "0                  SOLOMON ISLANDS                               en  \n",
       "2                              NaN                              NaN  \n",
       "3                              NaN                              NaN  \n",
       "4                              NaN                              NaN  \n",
       "5                              NaN                              NaN  \n",
       "\n",
       "[5 rows x 62 columns]"
      ]
     },
     "execution_count": 44,
     "metadata": {},
     "output_type": "execute_result"
    }
   ],
   "source": [
    "df3.dropna(axis = 0, subset= ['sector_code', 'reporting_org_type_name'], inplace=True)\n",
    "df3.head()"
   ]
  },
  {
   "cell_type": "code",
   "execution_count": 45,
   "id": "smart-burke",
   "metadata": {},
   "outputs": [
    {
     "data": {
      "text/plain": [
       "Index(['iati_identifier', 'title_narrative', 'title_narrative_lang',\n",
       "       'title_xml', 'activity_status_code', 'activity_scope_code',\n",
       "       'capital_spend_percentage', 'last_updated_datetime',\n",
       "       'sector_vocabulary', 'participating_org_narrative_lang',\n",
       "       'participating_org_narrative_text', 'reporting_org_ref',\n",
       "       'participating_org_role', 'reporting_org_secondary_reporter',\n",
       "       'participating_org_type', 'recipient_region_vocabulary',\n",
       "       'description_type', 'recipient_region_percentage',\n",
       "       'recipient_region_xml', 'sector_narrative',\n",
       "       'participating_org_narrative', 'description_lang',\n",
       "       'recipient_region_code', 'sector_narrative_text',\n",
       "       'reporting_org_narrative', 'sector_code', 'description_narrative_text',\n",
       "       'reporting_org_xml', 'reporting_org_type_code', 'description_xml',\n",
       "       'sector_xml', 'description_narrative', 'sector_percentage',\n",
       "       'participating_org_ref', 'sector_narrative_lang',\n",
       "       'recipient_region_vocabulary_uri', 'participating_org_xml',\n",
       "       'sector_vocabulary_uri', 'recipient_region_name',\n",
       "       'reporting_org_type_name', 'budget_period_start_iso_date',\n",
       "       'budget_value', 'budget_imf_link', 'budget_value_date',\n",
       "       'budget_period_end_iso_date', 'budget_xml', 'budget_value_usd_sum',\n",
       "       'budget_status', 'budget_usd_conversion_rate', 'budget_value_currency',\n",
       "       'budget_value_usd', 'budget_type', 'recipient_country_xml',\n",
       "       'recipient_country_name', 'recipient_country_percentage',\n",
       "       'recipient_country_code', 'recipient_region_narrative',\n",
       "       'recipient_region_narrative_lang', 'recipient_region_narrative_text',\n",
       "       'recipient_country_narrative', 'recipient_country_narrative_text',\n",
       "       'recipient_country_narrative_lang'],\n",
       "      dtype='object')"
      ]
     },
     "execution_count": 45,
     "metadata": {},
     "output_type": "execute_result"
    }
   ],
   "source": [
    "df3.columns"
   ]
  },
  {
   "cell_type": "code",
   "execution_count": 46,
   "id": "broke-dublin",
   "metadata": {},
   "outputs": [],
   "source": [
    "df3 = df3[['iati_identifier','title_narrative','activity_status_code','sector_code','reporting_org_type_name','recipient_country_name','budget_value_usd_sum']]"
   ]
  },
  {
   "cell_type": "code",
   "execution_count": 47,
   "id": "suffering-biodiversity",
   "metadata": {},
   "outputs": [
    {
     "data": {
      "text/plain": [
       "<AxesSubplot:>"
      ]
     },
     "execution_count": 47,
     "metadata": {},
     "output_type": "execute_result"
    },
    {
     "data": {
      "image/png": "[encoded data removed]",
      "text/plain": [
       "<Figure size 1800x720 with 2 Axes>"
      ]
     },
     "metadata": {},
     "output_type": "display_data"
    }
   ],
   "source": [
    "msno.matrix(df3)"
   ]
  },
  {
   "cell_type": "code",
   "execution_count": 48,
   "id": "hourly-writing",
   "metadata": {},
   "outputs": [
    {
     "data": {
      "text/plain": [
       "(7698, 7)"
      ]
     },
     "execution_count": 48,
     "metadata": {},
     "output_type": "execute_result"
    }
   ],
   "source": [
    "df3.shape"
   ]
  },
  {
   "cell_type": "code",
   "execution_count": 49,
   "id": "compressed-paraguay",
   "metadata": {},
   "outputs": [
    {
     "data": {
      "text/plain": [
       "<AxesSubplot:>"
      ]
     },
     "execution_count": 49,
     "metadata": {},
     "output_type": "execute_result"
    },
    {
     "data": {
      "image/png": "[encoded data removed]",
      "text/plain": [
       "<Figure size 1800x720 with 2 Axes>"
      ]
     },
     "metadata": {},
     "output_type": "display_data"
    }
   ],
   "source": [
    "df3.dropna(axis=0, how='any', thresh=None, subset=['recipient_country_name', 'budget_value_usd_sum'], inplace=True)\n",
    "msno.matrix(df3)"
   ]
  },
  {
   "cell_type": "code",
   "execution_count": 50,
   "id": "expensive-criterion",
   "metadata": {},
   "outputs": [
    {
     "data": {
      "text/plain": [
       "(3603, 7)"
      ]
     },
     "execution_count": 50,
     "metadata": {},
     "output_type": "execute_result"
    }
   ],
   "source": [
    "df3.shape"
   ]
  },
  {
   "cell_type": "markdown",
   "id": "quality-message",
   "metadata": {},
   "source": [
    "We will use multiple linear regression in order to predict the budget value of a project based on its features"
   ]
  },
  {
   "cell_type": "markdown",
   "id": "enabling-islam",
   "metadata": {},
   "source": [
    "## Multiple linear regression"
   ]
  },
  {
   "cell_type": "code",
   "execution_count": 51,
   "id": "dutch-baker",
   "metadata": {},
   "outputs": [],
   "source": [
    "y = df3.budget_value_usd_sum.values"
   ]
  },
  {
   "cell_type": "code",
   "execution_count": 52,
   "id": "federal-winner",
   "metadata": {},
   "outputs": [],
   "source": [
    "cleaned3 = df3.set_index('iati_identifier').sector_code.str.split(',', expand=True).stack()"
   ]
  },
  {
   "cell_type": "code",
   "execution_count": 53,
   "id": "instrumental-boating",
   "metadata": {},
   "outputs": [
    {
     "data": {
      "text/plain": [
       "iati_identifier          \n",
       "XI-IATI-WBTF-TF070850  0     73010\n",
       "                       1     43042\n",
       "                       2     43040\n",
       "                       3     32161\n",
       "                       4     31193\n",
       "                             ...  \n",
       "XI-IATI-WBTF-TF072778  6     15112\n",
       "                       7     14031\n",
       "                       8     14022\n",
       "                       9     14010\n",
       "                       10    13010\n",
       "Length: 10081, dtype: object"
      ]
     },
     "execution_count": 53,
     "metadata": {},
     "output_type": "execute_result"
    }
   ],
   "source": [
    "cleaned3"
   ]
  },
  {
   "cell_type": "code",
   "execution_count": 54,
   "id": "smart-bread",
   "metadata": {},
   "outputs": [],
   "source": [
    "x_data_sector = pd.get_dummies(cleaned3, prefix='dummy', drop_first=True).groupby(level=0).sum()"
   ]
  },
  {
   "cell_type": "code",
   "execution_count": 55,
   "id": "wicked-regard",
   "metadata": {},
   "outputs": [
    {
     "data": {
      "text/html": [
       "<div>\n",
       "<style scoped>\n",
       "    .dataframe tbody tr th:only-of-type {\n",
       "        vertical-align: middle;\n",
       "    }\n",
       "\n",
       "    .dataframe tbody tr th {\n",
       "        vertical-align: top;\n",
       "    }\n",
       "\n",
       "    .dataframe thead th {\n",
       "        text-align: right;\n",
       "    }\n",
       "</style>\n",
       "<table border=\"1\" class=\"dataframe\">\n",
       "  <thead>\n",
       "    <tr style=\"text-align: right;\">\n",
       "      <th></th>\n",
       "      <th>dummy_000014</th>\n",
       "      <th>dummy_000021</th>\n",
       "      <th>dummy_000022</th>\n",
       "      <th>dummy_000023</th>\n",
       "      <th>dummy_000024</th>\n",
       "      <th>dummy_000025</th>\n",
       "      <th>dummy_000026</th>\n",
       "      <th>dummy_000031</th>\n",
       "      <th>dummy_000032</th>\n",
       "      <th>dummy_000033</th>\n",
       "      <th>...</th>\n",
       "      <th>dummy_wa</th>\n",
       "      <th>dummy_wc</th>\n",
       "      <th>dummy_wf</th>\n",
       "      <th>dummy_wz</th>\n",
       "      <th>dummy_ya</th>\n",
       "      <th>dummy_yf</th>\n",
       "      <th>dummy_yh</th>\n",
       "      <th>dummy_yt</th>\n",
       "      <th>dummy_yy</th>\n",
       "      <th>dummy_yz</th>\n",
       "    </tr>\n",
       "    <tr>\n",
       "      <th>iati_identifier</th>\n",
       "      <th></th>\n",
       "      <th></th>\n",
       "      <th></th>\n",
       "      <th></th>\n",
       "      <th></th>\n",
       "      <th></th>\n",
       "      <th></th>\n",
       "      <th></th>\n",
       "      <th></th>\n",
       "      <th></th>\n",
       "      <th></th>\n",
       "      <th></th>\n",
       "      <th></th>\n",
       "      <th></th>\n",
       "      <th></th>\n",
       "      <th></th>\n",
       "      <th></th>\n",
       "      <th></th>\n",
       "      <th></th>\n",
       "      <th></th>\n",
       "      <th></th>\n",
       "    </tr>\n",
       "  </thead>\n",
       "  <tbody>\n",
       "    <tr>\n",
       "      <th>44000-P040653</th>\n",
       "      <td>0</td>\n",
       "      <td>0</td>\n",
       "      <td>1</td>\n",
       "      <td>0</td>\n",
       "      <td>1</td>\n",
       "      <td>0</td>\n",
       "      <td>0</td>\n",
       "      <td>0</td>\n",
       "      <td>0</td>\n",
       "      <td>0</td>\n",
       "      <td>...</td>\n",
       "      <td>0</td>\n",
       "      <td>0</td>\n",
       "      <td>0</td>\n",
       "      <td>1</td>\n",
       "      <td>1</td>\n",
       "      <td>0</td>\n",
       "      <td>0</td>\n",
       "      <td>0</td>\n",
       "      <td>0</td>\n",
       "      <td>0</td>\n",
       "    </tr>\n",
       "    <tr>\n",
       "      <th>44000-P065129</th>\n",
       "      <td>0</td>\n",
       "      <td>0</td>\n",
       "      <td>1</td>\n",
       "      <td>0</td>\n",
       "      <td>0</td>\n",
       "      <td>0</td>\n",
       "      <td>0</td>\n",
       "      <td>0</td>\n",
       "      <td>0</td>\n",
       "      <td>1</td>\n",
       "      <td>...</td>\n",
       "      <td>0</td>\n",
       "      <td>0</td>\n",
       "      <td>0</td>\n",
       "      <td>1</td>\n",
       "      <td>0</td>\n",
       "      <td>0</td>\n",
       "      <td>0</td>\n",
       "      <td>0</td>\n",
       "      <td>0</td>\n",
       "      <td>0</td>\n",
       "    </tr>\n",
       "    <tr>\n",
       "      <th>44000-P071144</th>\n",
       "      <td>1</td>\n",
       "      <td>1</td>\n",
       "      <td>0</td>\n",
       "      <td>0</td>\n",
       "      <td>0</td>\n",
       "      <td>0</td>\n",
       "      <td>0</td>\n",
       "      <td>0</td>\n",
       "      <td>0</td>\n",
       "      <td>0</td>\n",
       "      <td>...</td>\n",
       "      <td>0</td>\n",
       "      <td>0</td>\n",
       "      <td>0</td>\n",
       "      <td>0</td>\n",
       "      <td>0</td>\n",
       "      <td>0</td>\n",
       "      <td>0</td>\n",
       "      <td>0</td>\n",
       "      <td>0</td>\n",
       "      <td>0</td>\n",
       "    </tr>\n",
       "    <tr>\n",
       "      <th>44000-P073886</th>\n",
       "      <td>0</td>\n",
       "      <td>0</td>\n",
       "      <td>1</td>\n",
       "      <td>0</td>\n",
       "      <td>0</td>\n",
       "      <td>0</td>\n",
       "      <td>0</td>\n",
       "      <td>0</td>\n",
       "      <td>0</td>\n",
       "      <td>1</td>\n",
       "      <td>...</td>\n",
       "      <td>0</td>\n",
       "      <td>0</td>\n",
       "      <td>0</td>\n",
       "      <td>0</td>\n",
       "      <td>1</td>\n",
       "      <td>0</td>\n",
       "      <td>0</td>\n",
       "      <td>0</td>\n",
       "      <td>0</td>\n",
       "      <td>0</td>\n",
       "    </tr>\n",
       "    <tr>\n",
       "      <th>44000-P074011</th>\n",
       "      <td>1</td>\n",
       "      <td>0</td>\n",
       "      <td>0</td>\n",
       "      <td>0</td>\n",
       "      <td>0</td>\n",
       "      <td>1</td>\n",
       "      <td>0</td>\n",
       "      <td>0</td>\n",
       "      <td>0</td>\n",
       "      <td>0</td>\n",
       "      <td>...</td>\n",
       "      <td>0</td>\n",
       "      <td>0</td>\n",
       "      <td>0</td>\n",
       "      <td>0</td>\n",
       "      <td>0</td>\n",
       "      <td>0</td>\n",
       "      <td>0</td>\n",
       "      <td>0</td>\n",
       "      <td>0</td>\n",
       "      <td>0</td>\n",
       "    </tr>\n",
       "  </tbody>\n",
       "</table>\n",
       "<p>5 rows × 363 columns</p>\n",
       "</div>"
      ],
      "text/plain": [
       "                 dummy_000014  dummy_000021  dummy_000022  dummy_000023  \\\n",
       "iati_identifier                                                           \n",
       "44000-P040653               0             0             1             0   \n",
       "44000-P065129               0             0             1             0   \n",
       "44000-P071144               1             1             0             0   \n",
       "44000-P073886               0             0             1             0   \n",
       "44000-P074011               1             0             0             0   \n",
       "\n",
       "                 dummy_000024  dummy_000025  dummy_000026  dummy_000031  \\\n",
       "iati_identifier                                                           \n",
       "44000-P040653               1             0             0             0   \n",
       "44000-P065129               0             0             0             0   \n",
       "44000-P071144               0             0             0             0   \n",
       "44000-P073886               0             0             0             0   \n",
       "44000-P074011               0             1             0             0   \n",
       "\n",
       "                 dummy_000032  dummy_000033  ...  dummy_wa  dummy_wc  \\\n",
       "iati_identifier                              ...                       \n",
       "44000-P040653               0             0  ...         0         0   \n",
       "44000-P065129               0             1  ...         0         0   \n",
       "44000-P071144               0             0  ...         0         0   \n",
       "44000-P073886               0             1  ...         0         0   \n",
       "44000-P074011               0             0  ...         0         0   \n",
       "\n",
       "                 dummy_wf  dummy_wz  dummy_ya  dummy_yf  dummy_yh  dummy_yt  \\\n",
       "iati_identifier                                                               \n",
       "44000-P040653           0         1         1         0         0         0   \n",
       "44000-P065129           0         1         0         0         0         0   \n",
       "44000-P071144           0         0         0         0         0         0   \n",
       "44000-P073886           0         0         1         0         0         0   \n",
       "44000-P074011           0         0         0         0         0         0   \n",
       "\n",
       "                 dummy_yy  dummy_yz  \n",
       "iati_identifier                      \n",
       "44000-P040653           0         0  \n",
       "44000-P065129           0         0  \n",
       "44000-P071144           0         0  \n",
       "44000-P073886           0         0  \n",
       "44000-P074011           0         0  \n",
       "\n",
       "[5 rows x 363 columns]"
      ]
     },
     "execution_count": 55,
     "metadata": {},
     "output_type": "execute_result"
    }
   ],
   "source": [
    "x_data_sector.head()"
   ]
  },
  {
   "cell_type": "code",
   "execution_count": 56,
   "id": "random-guinea",
   "metadata": {},
   "outputs": [],
   "source": [
    "cleaned_org = df3.set_index('iati_identifier').reporting_org_type_name.str.split(',', expand=True).stack()"
   ]
  },
  {
   "cell_type": "code",
   "execution_count": 57,
   "id": "american-commander",
   "metadata": {},
   "outputs": [
    {
     "data": {
      "text/html": [
       "<div>\n",
       "<style scoped>\n",
       "    .dataframe tbody tr th:only-of-type {\n",
       "        vertical-align: middle;\n",
       "    }\n",
       "\n",
       "    .dataframe tbody tr th {\n",
       "        vertical-align: top;\n",
       "    }\n",
       "\n",
       "    .dataframe thead th {\n",
       "        text-align: right;\n",
       "    }\n",
       "</style>\n",
       "<table border=\"1\" class=\"dataframe\">\n",
       "  <thead>\n",
       "    <tr style=\"text-align: right;\">\n",
       "      <th></th>\n",
       "      <th>org_Government</th>\n",
       "      <th>org_International NGO</th>\n",
       "      <th>org_Multilateral</th>\n",
       "      <th>org_National NGO</th>\n",
       "      <th>org_Other Public Sector</th>\n",
       "      <th>org_Private Sector</th>\n",
       "    </tr>\n",
       "    <tr>\n",
       "      <th>iati_identifier</th>\n",
       "      <th></th>\n",
       "      <th></th>\n",
       "      <th></th>\n",
       "      <th></th>\n",
       "      <th></th>\n",
       "      <th></th>\n",
       "    </tr>\n",
       "  </thead>\n",
       "  <tbody>\n",
       "    <tr>\n",
       "      <th>44000-P040653</th>\n",
       "      <td>0</td>\n",
       "      <td>0</td>\n",
       "      <td>1</td>\n",
       "      <td>0</td>\n",
       "      <td>0</td>\n",
       "      <td>0</td>\n",
       "    </tr>\n",
       "    <tr>\n",
       "      <th>44000-P065129</th>\n",
       "      <td>0</td>\n",
       "      <td>0</td>\n",
       "      <td>1</td>\n",
       "      <td>0</td>\n",
       "      <td>0</td>\n",
       "      <td>0</td>\n",
       "    </tr>\n",
       "    <tr>\n",
       "      <th>44000-P071144</th>\n",
       "      <td>0</td>\n",
       "      <td>0</td>\n",
       "      <td>1</td>\n",
       "      <td>0</td>\n",
       "      <td>0</td>\n",
       "      <td>0</td>\n",
       "    </tr>\n",
       "    <tr>\n",
       "      <th>44000-P073886</th>\n",
       "      <td>0</td>\n",
       "      <td>0</td>\n",
       "      <td>1</td>\n",
       "      <td>0</td>\n",
       "      <td>0</td>\n",
       "      <td>0</td>\n",
       "    </tr>\n",
       "    <tr>\n",
       "      <th>44000-P074011</th>\n",
       "      <td>0</td>\n",
       "      <td>0</td>\n",
       "      <td>1</td>\n",
       "      <td>0</td>\n",
       "      <td>0</td>\n",
       "      <td>0</td>\n",
       "    </tr>\n",
       "  </tbody>\n",
       "</table>\n",
       "</div>"
      ],
      "text/plain": [
       "                 org_Government  org_International NGO  org_Multilateral  \\\n",
       "iati_identifier                                                            \n",
       "44000-P040653                 0                      0                 1   \n",
       "44000-P065129                 0                      0                 1   \n",
       "44000-P071144                 0                      0                 1   \n",
       "44000-P073886                 0                      0                 1   \n",
       "44000-P074011                 0                      0                 1   \n",
       "\n",
       "                 org_National NGO  org_Other Public Sector  org_Private Sector  \n",
       "iati_identifier                                                                 \n",
       "44000-P040653                   0                        0                   0  \n",
       "44000-P065129                   0                        0                   0  \n",
       "44000-P071144                   0                        0                   0  \n",
       "44000-P073886                   0                        0                   0  \n",
       "44000-P074011                   0                        0                   0  "
      ]
     },
     "execution_count": 57,
     "metadata": {},
     "output_type": "execute_result"
    }
   ],
   "source": [
    "x_data_org = pd.get_dummies(cleaned_org, prefix='org', drop_first=True).groupby(level=0).sum()\n",
    "x_data_org.head()"
   ]
  },
  {
   "cell_type": "code",
   "execution_count": 58,
   "id": "australian-trading",
   "metadata": {},
   "outputs": [
    {
     "data": {
      "text/plain": [
       "iati_identifier\n",
       "XI-IATI-WBTF-TF070850           21300075.00\n",
       "ES-DIR3-E04585801-009-031721       19190.51\n",
       "ES-DIR3-E04585801-009-002077       68968.65\n",
       "ES-DIR3-E04585801-009-001991       46963.25\n",
       "ES-DIR3-E04585801-009-002079       71340.62\n",
       "Name: budget_value_usd_sum, dtype: float64"
      ]
     },
     "execution_count": 58,
     "metadata": {},
     "output_type": "execute_result"
    }
   ],
   "source": [
    "target = df3.set_index('iati_identifier').budget_value_usd_sum\n",
    "target.head()"
   ]
  },
  {
   "cell_type": "code",
   "execution_count": 59,
   "id": "strategic-reality",
   "metadata": {},
   "outputs": [],
   "source": [
    "df_reg = pd.concat([x_data_sector,x_data_org, target], axis=1)"
   ]
  },
  {
   "cell_type": "code",
   "execution_count": 60,
   "id": "verbal-genesis",
   "metadata": {},
   "outputs": [
    {
     "data": {
      "text/plain": [
       "(3603, 370)"
      ]
     },
     "execution_count": 60,
     "metadata": {},
     "output_type": "execute_result"
    }
   ],
   "source": [
    "df_reg.shape"
   ]
  },
  {
   "cell_type": "code",
   "execution_count": 61,
   "id": "referenced-tuning",
   "metadata": {},
   "outputs": [
    {
     "data": {
      "text/plain": [
       "(3601, 370)"
      ]
     },
     "execution_count": 61,
     "metadata": {},
     "output_type": "execute_result"
    }
   ],
   "source": [
    "df_reg = df_reg[df_reg['budget_value_usd_sum']>0]\n",
    "df_reg.shape"
   ]
  },
  {
   "cell_type": "code",
   "execution_count": 62,
   "id": "fourth-ranch",
   "metadata": {},
   "outputs": [],
   "source": [
    "from scipy import stats\n",
    "z_scores = stats.zscore(df_reg.iloc[:,369])"
   ]
  },
  {
   "cell_type": "code",
   "execution_count": 63,
   "id": "leading-springfield",
   "metadata": {},
   "outputs": [],
   "source": [
    "df_reg_o= df_reg[(z_scores < 3)]"
   ]
  },
  {
   "cell_type": "code",
   "execution_count": 64,
   "id": "musical-prospect",
   "metadata": {},
   "outputs": [],
   "source": [
    "from sklearn import linear_model"
   ]
  },
  {
   "cell_type": "code",
   "execution_count": 65,
   "id": "eastern-relations",
   "metadata": {},
   "outputs": [],
   "source": [
    "X = df_reg_o.iloc[:, 0:369]"
   ]
  },
  {
   "cell_type": "code",
   "execution_count": 66,
   "id": "colonial-ocean",
   "metadata": {},
   "outputs": [],
   "source": [
    "y = df_reg_o.iloc[:, 369]"
   ]
  },
  {
   "cell_type": "code",
   "execution_count": 67,
   "id": "danish-acceptance",
   "metadata": {},
   "outputs": [],
   "source": [
    "lm = linear_model.LinearRegression()\n",
    "model = lm.fit(X,y)"
   ]
  },
  {
   "cell_type": "code",
   "execution_count": 68,
   "id": "nasty-shield",
   "metadata": {},
   "outputs": [],
   "source": [
    "predictions = lm.predict(X)"
   ]
  },
  {
   "cell_type": "code",
   "execution_count": 69,
   "id": "chemical-yesterday",
   "metadata": {},
   "outputs": [
    {
     "name": "stdout",
     "output_type": "stream",
     "text": [
      "[1.24945886e+08 3.69474224e+07 8.15282864e+07 6.78148784e+07\n",
      " 1.06911198e+08]\n"
     ]
    }
   ],
   "source": [
    "print(predictions[0:5])"
   ]
  },
  {
   "cell_type": "code",
   "execution_count": 70,
   "id": "automatic-fleece",
   "metadata": {},
   "outputs": [
    {
     "data": {
      "text/plain": [
       "0.838302123944737"
      ]
     },
     "execution_count": 70,
     "metadata": {},
     "output_type": "execute_result"
    }
   ],
   "source": [
    "lm.score(X,y)"
   ]
  },
  {
   "cell_type": "markdown",
   "id": "smooth-action",
   "metadata": {},
   "source": [
    "As we can observe, the R squared value seems promisory"
   ]
  },
  {
   "cell_type": "markdown",
   "id": "systematic-volunteer",
   "metadata": {},
   "source": [
    "Now we will use LR and SVC in order to classify if a project is going to be expensive ( using the third quartile budget value as reference) based on its features"
   ]
  },
  {
   "cell_type": "markdown",
   "id": "varying-conjunction",
   "metadata": {},
   "source": [
    "## Logistic Regression"
   ]
  },
  {
   "cell_type": "code",
   "execution_count": 71,
   "id": "irish-pacific",
   "metadata": {},
   "outputs": [
    {
     "data": {
      "text/plain": [
       "count    3.556000e+03\n",
       "mean     4.723614e+06\n",
       "std      1.766890e+07\n",
       "min      1.100000e-01\n",
       "25%      1.859650e+04\n",
       "50%      1.082103e+05\n",
       "75%      9.400941e+05\n",
       "max      2.040000e+08\n",
       "Name: budget_value_usd_sum, dtype: float64"
      ]
     },
     "execution_count": 71,
     "metadata": {},
     "output_type": "execute_result"
    }
   ],
   "source": [
    "df_reg_o['budget_value_usd_sum'].describe()"
   ]
  },
  {
   "cell_type": "code",
   "execution_count": 72,
   "id": "bizarre-underwear",
   "metadata": {},
   "outputs": [],
   "source": [
    "def imput_label_class(cols):\n",
    "    budget = cols[0]\n",
    "    \n",
    "    if budget>940093:\n",
    "        return 1\n",
    "    else:\n",
    "        return 0\n",
    "    "
   ]
  },
  {
   "cell_type": "code",
   "execution_count": 73,
   "id": "average-thriller",
   "metadata": {},
   "outputs": [
    {
     "name": "stderr",
     "output_type": "stream",
     "text": [
      "<ipython-input-73-6e6e26a3c82a>:1: SettingWithCopyWarning: \n",
      "A value is trying to be set on a copy of a slice from a DataFrame.\n",
      "Try using .loc[row_indexer,col_indexer] = value instead\n",
      "\n",
      "See the caveats in the documentation: https://pandas.pydata.org/pandas-docs/stable/user_guide/indexing.html#returning-a-view-versus-a-copy\n",
      "  df_reg_o['label_class'] = df_reg_o[['budget_value_usd_sum']].apply(imput_label_class, axis=1)\n"
     ]
    }
   ],
   "source": [
    "df_reg_o['label_class'] = df_reg_o[['budget_value_usd_sum']].apply(imput_label_class, axis=1)"
   ]
  },
  {
   "cell_type": "code",
   "execution_count": 74,
   "id": "pleasant-rough",
   "metadata": {},
   "outputs": [
    {
     "data": {
      "text/plain": [
       "889"
      ]
     },
     "execution_count": 74,
     "metadata": {},
     "output_type": "execute_result"
    }
   ],
   "source": [
    "df_reg_o['label_class'].sum()"
   ]
  },
  {
   "cell_type": "code",
   "execution_count": 75,
   "id": "abroad-speaking",
   "metadata": {},
   "outputs": [
    {
     "data": {
      "text/plain": [
       "(889, 371)"
      ]
     },
     "execution_count": 75,
     "metadata": {},
     "output_type": "execute_result"
    }
   ],
   "source": [
    "df_reg_o[df_reg_o['label_class']==1].shape"
   ]
  },
  {
   "cell_type": "code",
   "execution_count": 76,
   "id": "available-fireplace",
   "metadata": {},
   "outputs": [
    {
     "data": {
      "text/plain": [
       "(2667, 371)"
      ]
     },
     "execution_count": 76,
     "metadata": {},
     "output_type": "execute_result"
    }
   ],
   "source": [
    "df_reg_o[df_reg_o['label_class']==0].shape"
   ]
  },
  {
   "cell_type": "code",
   "execution_count": 77,
   "id": "promising-spotlight",
   "metadata": {},
   "outputs": [],
   "source": [
    "X = df_reg_o.iloc[:, :368]\n",
    "\n",
    "y = df_reg_o.iloc[:, 370]\n"
   ]
  },
  {
   "cell_type": "code",
   "execution_count": 78,
   "id": "elegant-emission",
   "metadata": {},
   "outputs": [],
   "source": [
    "X_train, X_test, y_train, y_test = train_test_split(X,y,test_size=0.3,random_state=42)"
   ]
  },
  {
   "cell_type": "code",
   "execution_count": 79,
   "id": "sixth-youth",
   "metadata": {},
   "outputs": [],
   "source": [
    "logitmodel = LogisticRegression(C=1.0, class_weight=None, dual=False, fit_intercept=True,\n",
    "                                intercept_scaling=1, l1_ratio=None, max_iter=100, n_jobs=None, penalty='l2',\n",
    "                                random_state=0, solver='liblinear', tol=0.0001, verbose=0,warm_start=False)"
   ]
  },
  {
   "cell_type": "code",
   "execution_count": 80,
   "id": "intense-comparison",
   "metadata": {},
   "outputs": [
    {
     "data": {
      "text/plain": [
       "LogisticRegression(random_state=0, solver='liblinear')"
      ]
     },
     "execution_count": 80,
     "metadata": {},
     "output_type": "execute_result"
    }
   ],
   "source": [
    "logitmodel.fit(X_train, y_train)"
   ]
  },
  {
   "cell_type": "code",
   "execution_count": 81,
   "id": "medium-simpson",
   "metadata": {},
   "outputs": [],
   "source": [
    "y_predictions = logitmodel.predict(X_test)"
   ]
  },
  {
   "cell_type": "code",
   "execution_count": 82,
   "id": "robust-title",
   "metadata": {},
   "outputs": [
    {
     "name": "stdout",
     "output_type": "stream",
     "text": [
      "              precision    recall  f1-score   support\n",
      "\n",
      "           0       0.86      0.94      0.90       790\n",
      "           1       0.76      0.57      0.65       277\n",
      "\n",
      "    accuracy                           0.84      1067\n",
      "   macro avg       0.81      0.75      0.78      1067\n",
      "weighted avg       0.84      0.84      0.83      1067\n",
      "\n"
     ]
    }
   ],
   "source": [
    "print(classification_report(y_test, y_predictions))"
   ]
  },
  {
   "cell_type": "code",
   "execution_count": 83,
   "id": "virtual-moses",
   "metadata": {},
   "outputs": [
    {
     "data": {
      "text/plain": [
       "array([[741,  49],\n",
       "       [119, 158]], dtype=int64)"
      ]
     },
     "execution_count": 83,
     "metadata": {},
     "output_type": "execute_result"
    }
   ],
   "source": [
    "confusion_matrix(y_test, y_predictions)"
   ]
  },
  {
   "cell_type": "markdown",
   "id": "tribal-python",
   "metadata": {},
   "source": [
    "## Support Vector Classifiers "
   ]
  },
  {
   "cell_type": "code",
   "execution_count": 84,
   "id": "integrated-sarah",
   "metadata": {},
   "outputs": [
    {
     "data": {
      "text/html": [
       "<div>\n",
       "<style scoped>\n",
       "    .dataframe tbody tr th:only-of-type {\n",
       "        vertical-align: middle;\n",
       "    }\n",
       "\n",
       "    .dataframe tbody tr th {\n",
       "        vertical-align: top;\n",
       "    }\n",
       "\n",
       "    .dataframe thead th {\n",
       "        text-align: right;\n",
       "    }\n",
       "</style>\n",
       "<table border=\"1\" class=\"dataframe\">\n",
       "  <thead>\n",
       "    <tr style=\"text-align: right;\">\n",
       "      <th></th>\n",
       "      <th>dummy_000014</th>\n",
       "      <th>dummy_000021</th>\n",
       "      <th>dummy_000022</th>\n",
       "      <th>dummy_000023</th>\n",
       "      <th>dummy_000024</th>\n",
       "      <th>dummy_000025</th>\n",
       "      <th>dummy_000026</th>\n",
       "      <th>dummy_000031</th>\n",
       "      <th>dummy_000032</th>\n",
       "      <th>dummy_000033</th>\n",
       "      <th>...</th>\n",
       "      <th>dummy_yy</th>\n",
       "      <th>dummy_yz</th>\n",
       "      <th>org_Government</th>\n",
       "      <th>org_International NGO</th>\n",
       "      <th>org_Multilateral</th>\n",
       "      <th>org_National NGO</th>\n",
       "      <th>org_Other Public Sector</th>\n",
       "      <th>org_Private Sector</th>\n",
       "      <th>budget_value_usd_sum</th>\n",
       "      <th>label_class</th>\n",
       "    </tr>\n",
       "    <tr>\n",
       "      <th>iati_identifier</th>\n",
       "      <th></th>\n",
       "      <th></th>\n",
       "      <th></th>\n",
       "      <th></th>\n",
       "      <th></th>\n",
       "      <th></th>\n",
       "      <th></th>\n",
       "      <th></th>\n",
       "      <th></th>\n",
       "      <th></th>\n",
       "      <th></th>\n",
       "      <th></th>\n",
       "      <th></th>\n",
       "      <th></th>\n",
       "      <th></th>\n",
       "      <th></th>\n",
       "      <th></th>\n",
       "      <th></th>\n",
       "      <th></th>\n",
       "      <th></th>\n",
       "      <th></th>\n",
       "    </tr>\n",
       "  </thead>\n",
       "  <tbody>\n",
       "    <tr>\n",
       "      <th>44000-P040653</th>\n",
       "      <td>0</td>\n",
       "      <td>0</td>\n",
       "      <td>1</td>\n",
       "      <td>0</td>\n",
       "      <td>1</td>\n",
       "      <td>0</td>\n",
       "      <td>0</td>\n",
       "      <td>0</td>\n",
       "      <td>0</td>\n",
       "      <td>0</td>\n",
       "      <td>...</td>\n",
       "      <td>0</td>\n",
       "      <td>0</td>\n",
       "      <td>0</td>\n",
       "      <td>0</td>\n",
       "      <td>1</td>\n",
       "      <td>0</td>\n",
       "      <td>0</td>\n",
       "      <td>0</td>\n",
       "      <td>1.200000e+08</td>\n",
       "      <td>1</td>\n",
       "    </tr>\n",
       "    <tr>\n",
       "      <th>44000-P065129</th>\n",
       "      <td>0</td>\n",
       "      <td>0</td>\n",
       "      <td>1</td>\n",
       "      <td>0</td>\n",
       "      <td>0</td>\n",
       "      <td>0</td>\n",
       "      <td>0</td>\n",
       "      <td>0</td>\n",
       "      <td>0</td>\n",
       "      <td>1</td>\n",
       "      <td>...</td>\n",
       "      <td>0</td>\n",
       "      <td>0</td>\n",
       "      <td>0</td>\n",
       "      <td>0</td>\n",
       "      <td>1</td>\n",
       "      <td>0</td>\n",
       "      <td>0</td>\n",
       "      <td>0</td>\n",
       "      <td>3.394087e+07</td>\n",
       "      <td>1</td>\n",
       "    </tr>\n",
       "    <tr>\n",
       "      <th>44000-P074011</th>\n",
       "      <td>1</td>\n",
       "      <td>0</td>\n",
       "      <td>0</td>\n",
       "      <td>0</td>\n",
       "      <td>0</td>\n",
       "      <td>1</td>\n",
       "      <td>0</td>\n",
       "      <td>0</td>\n",
       "      <td>0</td>\n",
       "      <td>0</td>\n",
       "      <td>...</td>\n",
       "      <td>0</td>\n",
       "      <td>0</td>\n",
       "      <td>0</td>\n",
       "      <td>0</td>\n",
       "      <td>1</td>\n",
       "      <td>0</td>\n",
       "      <td>0</td>\n",
       "      <td>0</td>\n",
       "      <td>8.210000e+07</td>\n",
       "      <td>1</td>\n",
       "    </tr>\n",
       "    <tr>\n",
       "      <th>44000-P079314</th>\n",
       "      <td>0</td>\n",
       "      <td>0</td>\n",
       "      <td>1</td>\n",
       "      <td>0</td>\n",
       "      <td>0</td>\n",
       "      <td>0</td>\n",
       "      <td>0</td>\n",
       "      <td>0</td>\n",
       "      <td>0</td>\n",
       "      <td>1</td>\n",
       "      <td>...</td>\n",
       "      <td>0</td>\n",
       "      <td>0</td>\n",
       "      <td>0</td>\n",
       "      <td>0</td>\n",
       "      <td>1</td>\n",
       "      <td>0</td>\n",
       "      <td>0</td>\n",
       "      <td>0</td>\n",
       "      <td>6.500000e+07</td>\n",
       "      <td>1</td>\n",
       "    </tr>\n",
       "    <tr>\n",
       "      <th>44000-P083923</th>\n",
       "      <td>0</td>\n",
       "      <td>0</td>\n",
       "      <td>1</td>\n",
       "      <td>0</td>\n",
       "      <td>0</td>\n",
       "      <td>0</td>\n",
       "      <td>0</td>\n",
       "      <td>0</td>\n",
       "      <td>0</td>\n",
       "      <td>0</td>\n",
       "      <td>...</td>\n",
       "      <td>0</td>\n",
       "      <td>0</td>\n",
       "      <td>0</td>\n",
       "      <td>0</td>\n",
       "      <td>1</td>\n",
       "      <td>0</td>\n",
       "      <td>0</td>\n",
       "      <td>0</td>\n",
       "      <td>1.049941e+08</td>\n",
       "      <td>1</td>\n",
       "    </tr>\n",
       "  </tbody>\n",
       "</table>\n",
       "<p>5 rows × 371 columns</p>\n",
       "</div>"
      ],
      "text/plain": [
       "                 dummy_000014  dummy_000021  dummy_000022  dummy_000023  \\\n",
       "iati_identifier                                                           \n",
       "44000-P040653               0             0             1             0   \n",
       "44000-P065129               0             0             1             0   \n",
       "44000-P074011               1             0             0             0   \n",
       "44000-P079314               0             0             1             0   \n",
       "44000-P083923               0             0             1             0   \n",
       "\n",
       "                 dummy_000024  dummy_000025  dummy_000026  dummy_000031  \\\n",
       "iati_identifier                                                           \n",
       "44000-P040653               1             0             0             0   \n",
       "44000-P065129               0             0             0             0   \n",
       "44000-P074011               0             1             0             0   \n",
       "44000-P079314               0             0             0             0   \n",
       "44000-P083923               0             0             0             0   \n",
       "\n",
       "                 dummy_000032  dummy_000033  ...  dummy_yy  dummy_yz  \\\n",
       "iati_identifier                              ...                       \n",
       "44000-P040653               0             0  ...         0         0   \n",
       "44000-P065129               0             1  ...         0         0   \n",
       "44000-P074011               0             0  ...         0         0   \n",
       "44000-P079314               0             1  ...         0         0   \n",
       "44000-P083923               0             0  ...         0         0   \n",
       "\n",
       "                 org_Government  org_International NGO  org_Multilateral  \\\n",
       "iati_identifier                                                            \n",
       "44000-P040653                 0                      0                 1   \n",
       "44000-P065129                 0                      0                 1   \n",
       "44000-P074011                 0                      0                 1   \n",
       "44000-P079314                 0                      0                 1   \n",
       "44000-P083923                 0                      0                 1   \n",
       "\n",
       "                 org_National NGO  org_Other Public Sector  \\\n",
       "iati_identifier                                              \n",
       "44000-P040653                   0                        0   \n",
       "44000-P065129                   0                        0   \n",
       "44000-P074011                   0                        0   \n",
       "44000-P079314                   0                        0   \n",
       "44000-P083923                   0                        0   \n",
       "\n",
       "                 org_Private Sector  budget_value_usd_sum  label_class  \n",
       "iati_identifier                                                         \n",
       "44000-P040653                     0          1.200000e+08            1  \n",
       "44000-P065129                     0          3.394087e+07            1  \n",
       "44000-P074011                     0          8.210000e+07            1  \n",
       "44000-P079314                     0          6.500000e+07            1  \n",
       "44000-P083923                     0          1.049941e+08            1  \n",
       "\n",
       "[5 rows x 371 columns]"
      ]
     },
     "execution_count": 84,
     "metadata": {},
     "output_type": "execute_result"
    }
   ],
   "source": [
    "df_reg_o.head()"
   ]
  },
  {
   "cell_type": "code",
   "execution_count": 87,
   "id": "varying-kitchen",
   "metadata": {},
   "outputs": [],
   "source": [
    "X = df_reg_o.iloc[:, :368]\n",
    "\n",
    "y = df_reg_o.iloc[:, 370]\n"
   ]
  },
  {
   "cell_type": "code",
   "execution_count": 88,
   "id": "palestinian-audio",
   "metadata": {},
   "outputs": [],
   "source": [
    "X_train, X_test, y_train, y_test = train_test_split(X,y,test_size=0.3,random_state=42)"
   ]
  },
  {
   "cell_type": "code",
   "execution_count": 89,
   "id": "appropriate-copying",
   "metadata": {},
   "outputs": [],
   "source": [
    "svc_model = SVC()"
   ]
  },
  {
   "cell_type": "code",
   "execution_count": 90,
   "id": "catholic-exposure",
   "metadata": {},
   "outputs": [
    {
     "data": {
      "text/plain": [
       "SVC()"
      ]
     },
     "execution_count": 90,
     "metadata": {},
     "output_type": "execute_result"
    }
   ],
   "source": [
    "svc_model.fit(X_train,y_train)"
   ]
  },
  {
   "cell_type": "code",
   "execution_count": 91,
   "id": "conscious-translator",
   "metadata": {},
   "outputs": [],
   "source": [
    "y_svc_predictions = svc_model.predict(X_test)"
   ]
  },
  {
   "cell_type": "code",
   "execution_count": 94,
   "id": "motivated-accreditation",
   "metadata": {},
   "outputs": [
    {
     "name": "stdout",
     "output_type": "stream",
     "text": [
      "              precision    recall  f1-score   support\n",
      "\n",
      "           0       0.86      0.94      0.90       790\n",
      "           1       0.76      0.56      0.64       277\n",
      "\n",
      "    accuracy                           0.84      1067\n",
      "   macro avg       0.81      0.75      0.77      1067\n",
      "weighted avg       0.83      0.84      0.83      1067\n",
      "\n"
     ]
    }
   ],
   "source": [
    "print(classification_report(y_test, y_svc_predictions))"
   ]
  },
  {
   "cell_type": "code",
   "execution_count": 95,
   "id": "breathing-terrace",
   "metadata": {},
   "outputs": [
    {
     "data": {
      "text/plain": [
       "array([[741,  49],\n",
       "       [123, 154]], dtype=int64)"
      ]
     },
     "execution_count": 95,
     "metadata": {},
     "output_type": "execute_result"
    }
   ],
   "source": [
    "confusion_matrix(y_test, y_svc_predictions)"
   ]
  },
  {
   "cell_type": "code",
   "execution_count": 107,
   "id": "cooked-mainland",
   "metadata": {},
   "outputs": [],
   "source": [
    "param_grid = {\n",
    "    'C': [5,10,15,20,25],\n",
    "    'gamma': [1,0.2,0.4,0.6,0.8,1.2,1.4]\n",
    "}"
   ]
  },
  {
   "cell_type": "markdown",
   "id": "nonprofit-simulation",
   "metadata": {},
   "source": [
    "We will use grid search in order to optimize the SVC parameters"
   ]
  },
  {
   "cell_type": "code",
   "execution_count": 122,
   "id": "soviet-education",
   "metadata": {},
   "outputs": [],
   "source": [
    "grid = GridSearchCV(SVC(probability=True), param_grid, verbose=3)"
   ]
  },
  {
   "cell_type": "code",
   "execution_count": 123,
   "id": "athletic-wallpaper",
   "metadata": {},
   "outputs": [
    {
     "name": "stdout",
     "output_type": "stream",
     "text": [
      "Fitting 5 folds for each of 35 candidates, totalling 175 fits\n",
      "[CV 1/5] END ...................................C=5, gamma=1; total time=   1.8s\n",
      "[CV 2/5] END ...................................C=5, gamma=1; total time=   1.7s\n",
      "[CV 3/5] END ...................................C=5, gamma=1; total time=   1.5s\n",
      "[CV 4/5] END ...................................C=5, gamma=1; total time=   1.6s\n",
      "[CV 5/5] END ...................................C=5, gamma=1; total time=   1.7s\n",
      "[CV 1/5] END .................................C=5, gamma=0.2; total time=   1.5s\n",
      "[CV 2/5] END .................................C=5, gamma=0.2; total time=   2.5s\n",
      "[CV 3/5] END .................................C=5, gamma=0.2; total time=   1.6s\n",
      "[CV 4/5] END .................................C=5, gamma=0.2; total time=   1.6s\n",
      "[CV 5/5] END .................................C=5, gamma=0.2; total time=   1.6s\n",
      "[CV 1/5] END .................................C=5, gamma=0.4; total time=   1.5s\n",
      "[CV 2/5] END .................................C=5, gamma=0.4; total time=   1.6s\n",
      "[CV 3/5] END .................................C=5, gamma=0.4; total time=   1.5s\n",
      "[CV 4/5] END .................................C=5, gamma=0.4; total time=   1.6s\n",
      "[CV 5/5] END .................................C=5, gamma=0.4; total time=   1.6s\n",
      "[CV 1/5] END .................................C=5, gamma=0.6; total time=   1.5s\n",
      "[CV 2/5] END .................................C=5, gamma=0.6; total time=   1.6s\n",
      "[CV 3/5] END .................................C=5, gamma=0.6; total time=   1.5s\n",
      "[CV 4/5] END .................................C=5, gamma=0.6; total time=   1.6s\n",
      "[CV 5/5] END .................................C=5, gamma=0.6; total time=   1.6s\n",
      "[CV 1/5] END .................................C=5, gamma=0.8; total time=   1.5s\n",
      "[CV 2/5] END .................................C=5, gamma=0.8; total time=   1.6s\n",
      "[CV 3/5] END .................................C=5, gamma=0.8; total time=   1.5s\n",
      "[CV 4/5] END .................................C=5, gamma=0.8; total time=   1.6s\n",
      "[CV 5/5] END .................................C=5, gamma=0.8; total time=   1.6s\n",
      "[CV 1/5] END .................................C=5, gamma=1.2; total time=   1.6s\n",
      "[CV 2/5] END .................................C=5, gamma=1.2; total time=   1.6s\n",
      "[CV 3/5] END .................................C=5, gamma=1.2; total time=   1.6s\n",
      "[CV 4/5] END .................................C=5, gamma=1.2; total time=   1.6s\n",
      "[CV 5/5] END .................................C=5, gamma=1.2; total time=   1.6s\n",
      "[CV 1/5] END .................................C=5, gamma=1.4; total time=   1.6s\n",
      "[CV 2/5] END .................................C=5, gamma=1.4; total time=   1.6s\n",
      "[CV 3/5] END .................................C=5, gamma=1.4; total time=   1.5s\n",
      "[CV 4/5] END .................................C=5, gamma=1.4; total time=   1.6s\n",
      "[CV 5/5] END .................................C=5, gamma=1.4; total time=   1.6s\n",
      "[CV 1/5] END ..................................C=10, gamma=1; total time=   1.5s\n",
      "[CV 2/5] END ..................................C=10, gamma=1; total time=   1.6s\n",
      "[CV 3/5] END ..................................C=10, gamma=1; total time=   1.5s\n",
      "[CV 4/5] END ..................................C=10, gamma=1; total time=   1.6s\n",
      "[CV 5/5] END ..................................C=10, gamma=1; total time=   1.5s\n",
      "[CV 1/5] END ................................C=10, gamma=0.2; total time=   1.5s\n",
      "[CV 2/5] END ................................C=10, gamma=0.2; total time=   1.6s\n",
      "[CV 3/5] END ................................C=10, gamma=0.2; total time=   1.5s\n",
      "[CV 4/5] END ................................C=10, gamma=0.2; total time=   1.5s\n",
      "[CV 5/5] END ................................C=10, gamma=0.2; total time=   1.6s\n",
      "[CV 1/5] END ................................C=10, gamma=0.4; total time=   1.5s\n",
      "[CV 2/5] END ................................C=10, gamma=0.4; total time=   1.6s\n",
      "[CV 3/5] END ................................C=10, gamma=0.4; total time=   1.5s\n",
      "[CV 4/5] END ................................C=10, gamma=0.4; total time=   1.6s\n",
      "[CV 5/5] END ................................C=10, gamma=0.4; total time=   1.6s\n",
      "[CV 1/5] END ................................C=10, gamma=0.6; total time=   1.6s\n",
      "[CV 2/5] END ................................C=10, gamma=0.6; total time=   1.5s\n",
      "[CV 3/5] END ................................C=10, gamma=0.6; total time=   1.5s\n",
      "[CV 4/5] END ................................C=10, gamma=0.6; total time=   1.6s\n",
      "[CV 5/5] END ................................C=10, gamma=0.6; total time=   1.6s\n",
      "[CV 1/5] END ................................C=10, gamma=0.8; total time=   1.5s\n",
      "[CV 2/5] END ................................C=10, gamma=0.8; total time=   1.6s\n",
      "[CV 3/5] END ................................C=10, gamma=0.8; total time=   1.5s\n",
      "[CV 4/5] END ................................C=10, gamma=0.8; total time=   1.5s\n",
      "[CV 5/5] END ................................C=10, gamma=0.8; total time=   1.6s\n",
      "[CV 1/5] END ................................C=10, gamma=1.2; total time=   1.6s\n",
      "[CV 2/5] END ................................C=10, gamma=1.2; total time=   1.6s\n",
      "[CV 3/5] END ................................C=10, gamma=1.2; total time=   1.6s\n",
      "[CV 4/5] END ................................C=10, gamma=1.2; total time=   1.7s\n",
      "[CV 5/5] END ................................C=10, gamma=1.2; total time=   1.6s\n",
      "[CV 1/5] END ................................C=10, gamma=1.4; total time=   2.0s\n",
      "[CV 2/5] END ................................C=10, gamma=1.4; total time=   2.2s\n",
      "[CV 3/5] END ................................C=10, gamma=1.4; total time=   2.6s\n",
      "[CV 4/5] END ................................C=10, gamma=1.4; total time=   1.7s\n",
      "[CV 5/5] END ................................C=10, gamma=1.4; total time=   1.9s\n",
      "[CV 1/5] END ..................................C=15, gamma=1; total time=   2.4s\n",
      "[CV 2/5] END ..................................C=15, gamma=1; total time=   2.1s\n",
      "[CV 3/5] END ..................................C=15, gamma=1; total time=   1.9s\n",
      "[CV 4/5] END ..................................C=15, gamma=1; total time=   2.1s\n",
      "[CV 5/5] END ..................................C=15, gamma=1; total time=   1.9s\n",
      "[CV 1/5] END ................................C=15, gamma=0.2; total time=   1.9s\n",
      "[CV 2/5] END ................................C=15, gamma=0.2; total time=   1.9s\n",
      "[CV 3/5] END ................................C=15, gamma=0.2; total time=   1.9s\n",
      "[CV 4/5] END ................................C=15, gamma=0.2; total time=   1.8s\n",
      "[CV 5/5] END ................................C=15, gamma=0.2; total time=   1.8s\n",
      "[CV 1/5] END ................................C=15, gamma=0.4; total time=   1.5s\n",
      "[CV 2/5] END ................................C=15, gamma=0.4; total time=   1.6s\n",
      "[CV 3/5] END ................................C=15, gamma=0.4; total time=   1.5s\n",
      "[CV 4/5] END ................................C=15, gamma=0.4; total time=   1.5s\n",
      "[CV 5/5] END ................................C=15, gamma=0.4; total time=   1.6s\n",
      "[CV 1/5] END ................................C=15, gamma=0.6; total time=   1.6s\n",
      "[CV 2/5] END ................................C=15, gamma=0.6; total time=   1.6s\n",
      "[CV 3/5] END ................................C=15, gamma=0.6; total time=   1.6s\n",
      "[CV 4/5] END ................................C=15, gamma=0.6; total time=   1.5s\n",
      "[CV 5/5] END ................................C=15, gamma=0.6; total time=   1.6s\n",
      "[CV 1/5] END ................................C=15, gamma=0.8; total time=   1.6s\n",
      "[CV 2/5] END ................................C=15, gamma=0.8; total time=   1.6s\n",
      "[CV 3/5] END ................................C=15, gamma=0.8; total time=   1.5s\n",
      "[CV 4/5] END ................................C=15, gamma=0.8; total time=   1.5s\n",
      "[CV 5/5] END ................................C=15, gamma=0.8; total time=   1.6s\n",
      "[CV 1/5] END ................................C=15, gamma=1.2; total time=   1.6s\n",
      "[CV 2/5] END ................................C=15, gamma=1.2; total time=   1.6s\n",
      "[CV 3/5] END ................................C=15, gamma=1.2; total time=   1.5s\n",
      "[CV 4/5] END ................................C=15, gamma=1.2; total time=   1.6s\n",
      "[CV 5/5] END ................................C=15, gamma=1.2; total time=   1.6s\n",
      "[CV 1/5] END ................................C=15, gamma=1.4; total time=   1.5s\n",
      "[CV 2/5] END ................................C=15, gamma=1.4; total time=   1.6s\n",
      "[CV 3/5] END ................................C=15, gamma=1.4; total time=   1.5s\n",
      "[CV 4/5] END ................................C=15, gamma=1.4; total time=   1.6s\n",
      "[CV 5/5] END ................................C=15, gamma=1.4; total time=   1.6s\n",
      "[CV 1/5] END ..................................C=20, gamma=1; total time=   1.5s\n",
      "[CV 2/5] END ..................................C=20, gamma=1; total time=   1.6s\n",
      "[CV 3/5] END ..................................C=20, gamma=1; total time=   1.5s\n",
      "[CV 4/5] END ..................................C=20, gamma=1; total time=   1.6s\n",
      "[CV 5/5] END ..................................C=20, gamma=1; total time=   1.6s\n",
      "[CV 1/5] END ................................C=20, gamma=0.2; total time=   1.5s\n",
      "[CV 2/5] END ................................C=20, gamma=0.2; total time=   1.8s\n",
      "[CV 3/5] END ................................C=20, gamma=0.2; total time=   2.4s\n",
      "[CV 4/5] END ................................C=20, gamma=0.2; total time=   1.5s\n",
      "[CV 5/5] END ................................C=20, gamma=0.2; total time=   1.7s\n",
      "[CV 1/5] END ................................C=20, gamma=0.4; total time=   2.1s\n",
      "[CV 2/5] END ................................C=20, gamma=0.4; total time=   1.8s\n",
      "[CV 3/5] END ................................C=20, gamma=0.4; total time=   1.5s\n",
      "[CV 4/5] END ................................C=20, gamma=0.4; total time=   1.6s\n",
      "[CV 5/5] END ................................C=20, gamma=0.4; total time=   2.0s\n",
      "[CV 1/5] END ................................C=20, gamma=0.6; total time=   1.8s\n",
      "[CV 2/5] END ................................C=20, gamma=0.6; total time=   2.0s\n",
      "[CV 3/5] END ................................C=20, gamma=0.6; total time=   1.5s\n",
      "[CV 4/5] END ................................C=20, gamma=0.6; total time=   1.7s\n",
      "[CV 5/5] END ................................C=20, gamma=0.6; total time=   1.7s\n",
      "[CV 1/5] END ................................C=20, gamma=0.8; total time=   2.2s\n",
      "[CV 2/5] END ................................C=20, gamma=0.8; total time=   1.8s\n",
      "[CV 3/5] END ................................C=20, gamma=0.8; total time=   1.6s\n",
      "[CV 4/5] END ................................C=20, gamma=0.8; total time=   1.6s\n",
      "[CV 5/5] END ................................C=20, gamma=0.8; total time=   2.0s\n",
      "[CV 1/5] END ................................C=20, gamma=1.2; total time=   1.8s\n",
      "[CV 2/5] END ................................C=20, gamma=1.2; total time=   1.6s\n",
      "[CV 3/5] END ................................C=20, gamma=1.2; total time=   1.5s\n",
      "[CV 4/5] END ................................C=20, gamma=1.2; total time=   1.8s\n",
      "[CV 5/5] END ................................C=20, gamma=1.2; total time=   1.6s\n",
      "[CV 1/5] END ................................C=20, gamma=1.4; total time=   2.0s\n",
      "[CV 2/5] END ................................C=20, gamma=1.4; total time=   2.5s\n",
      "[CV 3/5] END ................................C=20, gamma=1.4; total time=   1.6s\n",
      "[CV 4/5] END ................................C=20, gamma=1.4; total time=   1.6s\n",
      "[CV 5/5] END ................................C=20, gamma=1.4; total time=   1.6s\n",
      "[CV 1/5] END ..................................C=25, gamma=1; total time=   1.8s\n",
      "[CV 2/5] END ..................................C=25, gamma=1; total time=   1.6s\n",
      "[CV 3/5] END ..................................C=25, gamma=1; total time=   2.2s\n",
      "[CV 4/5] END ..................................C=25, gamma=1; total time=   2.6s\n",
      "[CV 5/5] END ..................................C=25, gamma=1; total time=   2.6s\n",
      "[CV 1/5] END ................................C=25, gamma=0.2; total time=   2.0s\n",
      "[CV 2/5] END ................................C=25, gamma=0.2; total time=   1.6s\n",
      "[CV 3/5] END ................................C=25, gamma=0.2; total time=   1.5s\n",
      "[CV 4/5] END ................................C=25, gamma=0.2; total time=   1.6s\n",
      "[CV 5/5] END ................................C=25, gamma=0.2; total time=   1.5s\n",
      "[CV 1/5] END ................................C=25, gamma=0.4; total time=   1.5s\n",
      "[CV 2/5] END ................................C=25, gamma=0.4; total time=   1.6s\n",
      "[CV 3/5] END ................................C=25, gamma=0.4; total time=   1.4s\n",
      "[CV 4/5] END ................................C=25, gamma=0.4; total time=   1.6s\n",
      "[CV 5/5] END ................................C=25, gamma=0.4; total time=   1.6s\n",
      "[CV 1/5] END ................................C=25, gamma=0.6; total time=   1.5s\n",
      "[CV 2/5] END ................................C=25, gamma=0.6; total time=   1.6s\n",
      "[CV 3/5] END ................................C=25, gamma=0.6; total time=   1.5s\n",
      "[CV 4/5] END ................................C=25, gamma=0.6; total time=   1.5s\n",
      "[CV 5/5] END ................................C=25, gamma=0.6; total time=   1.5s\n",
      "[CV 1/5] END ................................C=25, gamma=0.8; total time=   1.6s\n",
      "[CV 2/5] END ................................C=25, gamma=0.8; total time=   1.7s\n",
      "[CV 3/5] END ................................C=25, gamma=0.8; total time=   1.6s\n",
      "[CV 4/5] END ................................C=25, gamma=0.8; total time=   1.5s\n",
      "[CV 5/5] END ................................C=25, gamma=0.8; total time=   1.6s\n",
      "[CV 1/5] END ................................C=25, gamma=1.2; total time=   1.6s\n",
      "[CV 2/5] END ................................C=25, gamma=1.2; total time=   1.6s\n",
      "[CV 3/5] END ................................C=25, gamma=1.2; total time=   1.5s\n",
      "[CV 4/5] END ................................C=25, gamma=1.2; total time=   1.5s\n",
      "[CV 5/5] END ................................C=25, gamma=1.2; total time=   1.6s\n",
      "[CV 1/5] END ................................C=25, gamma=1.4; total time=   1.6s\n",
      "[CV 2/5] END ................................C=25, gamma=1.4; total time=   2.0s\n",
      "[CV 3/5] END ................................C=25, gamma=1.4; total time=   2.1s\n",
      "[CV 4/5] END ................................C=25, gamma=1.4; total time=   1.6s\n",
      "[CV 5/5] END ................................C=25, gamma=1.4; total time=   1.6s\n"
     ]
    },
    {
     "data": {
      "text/plain": [
       "GridSearchCV(estimator=SVC(probability=True),\n",
       "             param_grid={'C': [5, 10, 15, 20, 25],\n",
       "                         'gamma': [1, 0.2, 0.4, 0.6, 0.8, 1.2, 1.4]},\n",
       "             verbose=3)"
      ]
     },
     "execution_count": 123,
     "metadata": {},
     "output_type": "execute_result"
    }
   ],
   "source": [
    "grid.fit(X_train, y_train)"
   ]
  },
  {
   "cell_type": "code",
   "execution_count": 124,
   "id": "initial-football",
   "metadata": {},
   "outputs": [
    {
     "data": {
      "text/plain": [
       "{'C': 5, 'gamma': 1}"
      ]
     },
     "execution_count": 124,
     "metadata": {},
     "output_type": "execute_result"
    }
   ],
   "source": [
    "grid.best_params_"
   ]
  },
  {
   "cell_type": "code",
   "execution_count": 125,
   "id": "arabic-forward",
   "metadata": {},
   "outputs": [
    {
     "data": {
      "text/plain": [
       "SVC(C=5, gamma=1, probability=True)"
      ]
     },
     "execution_count": 125,
     "metadata": {},
     "output_type": "execute_result"
    }
   ],
   "source": [
    "grid.best_estimator_"
   ]
  },
  {
   "cell_type": "code",
   "execution_count": 126,
   "id": "perfect-calculation",
   "metadata": {},
   "outputs": [],
   "source": [
    "grid_predictions = grid.predict(X_test)"
   ]
  },
  {
   "cell_type": "code",
   "execution_count": 127,
   "id": "seventh-month",
   "metadata": {},
   "outputs": [
    {
     "name": "stdout",
     "output_type": "stream",
     "text": [
      "[[731  59]\n",
      " [113 164]]\n",
      "\n",
      "\n",
      "              precision    recall  f1-score   support\n",
      "\n",
      "           0       0.87      0.93      0.89       790\n",
      "           1       0.74      0.59      0.66       277\n",
      "\n",
      "    accuracy                           0.84      1067\n",
      "   macro avg       0.80      0.76      0.78      1067\n",
      "weighted avg       0.83      0.84      0.83      1067\n",
      "\n"
     ]
    }
   ],
   "source": [
    "print(confusion_matrix(y_test,grid_predictions))\n",
    "print('\\n')\n",
    "print(classification_report(y_test,grid_predictions))"
   ]
  },
  {
   "cell_type": "markdown",
   "id": "valid-belarus",
   "metadata": {},
   "source": [
    "## Comparisson between Classificators: SVC and Logistic Regression"
   ]
  },
  {
   "cell_type": "code",
   "execution_count": 128,
   "id": "unusual-netscape",
   "metadata": {},
   "outputs": [],
   "source": [
    "import sklearn.metrics as metrics"
   ]
  },
  {
   "cell_type": "markdown",
   "id": "lovely-house",
   "metadata": {},
   "source": [
    "### SVC"
   ]
  },
  {
   "cell_type": "code",
   "execution_count": 129,
   "id": "ideal-catering",
   "metadata": {},
   "outputs": [],
   "source": [
    "probs = grid.predict_proba(X_test)"
   ]
  },
  {
   "cell_type": "code",
   "execution_count": 133,
   "id": "powered-illinois",
   "metadata": {},
   "outputs": [],
   "source": [
    "preds = probs[:,1]\n",
    "fpr, tpr, threshold = metrics.roc_curve(y_test, preds)\n",
    "roc_auc = metrics.auc(fpr, tpr)"
   ]
  },
  {
   "cell_type": "code",
   "execution_count": 134,
   "id": "organized-observation",
   "metadata": {},
   "outputs": [
    {
     "data": {
      "image/png": "[encoded data removed]",
      "text/plain": [
       "<Figure size 432x288 with 1 Axes>"
      ]
     },
     "metadata": {},
     "output_type": "display_data"
    }
   ],
   "source": [
    "import matplotlib.pyplot as plt\n",
    "plt.title('Receiver Operating Characteristic')\n",
    "plt.plot(fpr, tpr, 'b', label = 'AUC = %0.2f' % roc_auc)\n",
    "plt.legend(loc = 'lower right')\n",
    "plt.plot([0, 1], [0, 1],'r--')\n",
    "plt.xlim([0, 1])\n",
    "plt.ylim([0, 1])\n",
    "plt.ylabel('True Positive Rate')\n",
    "plt.xlabel('False Positive Rate')\n",
    "plt.show()"
   ]
  },
  {
   "cell_type": "markdown",
   "id": "eight-beaver",
   "metadata": {},
   "source": [
    "### Logistic Regression"
   ]
  },
  {
   "cell_type": "code",
   "execution_count": 138,
   "id": "hourly-henry",
   "metadata": {},
   "outputs": [],
   "source": [
    "probs_lr = logitmodel.predict_proba(X_test)"
   ]
  },
  {
   "cell_type": "code",
   "execution_count": 141,
   "id": "convinced-pointer",
   "metadata": {},
   "outputs": [],
   "source": [
    "preds = probs_lr[:,1]\n",
    "fpr, tpr, threshold = metrics.roc_curve(y_test, preds)\n",
    "roc_auc = metrics.auc(fpr, tpr)"
   ]
  },
  {
   "cell_type": "code",
   "execution_count": 142,
   "id": "dedicated-office",
   "metadata": {},
   "outputs": [
    {
     "data": {
      "image/png": "[encoded data removed]",
      "text/plain": [
       "<Figure size 432x288 with 1 Axes>"
      ]
     },
     "metadata": {},
     "output_type": "display_data"
    }
   ],
   "source": [
    "import matplotlib.pyplot as plt\n",
    "plt.title('Receiver Operating Characteristic')\n",
    "plt.plot(fpr, tpr, 'b', label = 'AUC = %0.2f' % roc_auc)\n",
    "plt.legend(loc = 'lower right')\n",
    "plt.plot([0, 1], [0, 1],'r--')\n",
    "plt.xlim([0, 1])\n",
    "plt.ylim([0, 1])\n",
    "plt.ylabel('True Positive Rate')\n",
    "plt.xlabel('False Positive Rate')\n",
    "plt.show()"
   ]
  },
  {
   "cell_type": "markdown",
   "id": "latin-engagement",
   "metadata": {},
   "source": [
    "In conclussion, based on AUC, the best classifier is Logistic Regression (AUC= 0.88)"
   ]
  },
  {
   "cell_type": "markdown",
   "id": "revolutionary-throw",
   "metadata": {},
   "source": [
    "Using its corresponing curve, we will find the best threshold so that the recall value will be minimized"
   ]
  },
  {
   "cell_type": "code",
   "execution_count": 154,
   "id": "finished-hamilton",
   "metadata": {},
   "outputs": [
    {
     "data": {
      "text/plain": [
       "array([1.99809179, 0.99809179, 0.9785256 , 0.97827003, 0.9118627 ,\n",
       "       0.91075618, 0.86536874, 0.85618065, 0.81691565, 0.81154705,\n",
       "       0.81127037, 0.80644415, 0.79981966, 0.79940425, 0.78789749,\n",
       "       0.78675169, 0.77786066, 0.77265362, 0.7720148 , 0.77081918,\n",
       "       0.73634888, 0.73574981, 0.72850231, 0.72494742, 0.72240892,\n",
       "       0.71907696, 0.71781323, 0.71000064, 0.70379109, 0.70225984,\n",
       "       0.69654977, 0.69415852, 0.69104821, 0.68502104, 0.67696859,\n",
       "       0.65489382, 0.65431867, 0.65230172, 0.64643791, 0.64245964,\n",
       "       0.63624942, 0.62329042, 0.61245989, 0.60836271, 0.60443289,\n",
       "       0.60109423, 0.58904606, 0.58269241, 0.5820481 , 0.57972626,\n",
       "       0.57353065, 0.5721829 , 0.56247305, 0.55791496, 0.5561392 ,\n",
       "       0.55165105, 0.5370479 , 0.51089553, 0.50191674, 0.50191441,\n",
       "       0.49858224, 0.49662519, 0.49277535, 0.4851068 , 0.48079273,\n",
       "       0.4742841 , 0.47300071, 0.4692095 , 0.46432567, 0.45655452,\n",
       "       0.42603438, 0.42023861, 0.41417735, 0.36637092, 0.34811531,\n",
       "       0.32382658, 0.28494802, 0.27038305, 0.26744089, 0.25386   ,\n",
       "       0.25267871, 0.24111167, 0.231487  , 0.21629792, 0.18455624,\n",
       "       0.16478462, 0.16013961, 0.15780272, 0.14893578, 0.13395604,\n",
       "       0.12764914, 0.12637102, 0.05177071, 0.04975702, 0.02922356])"
      ]
     },
     "execution_count": 154,
     "metadata": {},
     "output_type": "execute_result"
    }
   ],
   "source": [
    "threshold"
   ]
  },
  {
   "cell_type": "code",
   "execution_count": 155,
   "id": "affiliated-canyon",
   "metadata": {},
   "outputs": [
    {
     "data": {
      "text/plain": [
       "array([0.        , 0.00361011, 0.02888087, 0.02888087, 0.11913357,\n",
       "       0.11913357, 0.15884477, 0.16606498, 0.19855596, 0.20577617,\n",
       "       0.20938628, 0.20938628, 0.22382671, 0.23104693, 0.23826715,\n",
       "       0.23826715, 0.24548736, 0.24548736, 0.24909747, 0.25270758,\n",
       "       0.27436823, 0.28158845, 0.28519856, 0.28519856, 0.28519856,\n",
       "       0.29241877, 0.3032491 , 0.3032491 , 0.31046931, 0.31046931,\n",
       "       0.31768953, 0.32129964, 0.32129964, 0.32490975, 0.34296029,\n",
       "       0.36101083, 0.36462094, 0.36823105, 0.37545126, 0.37545126,\n",
       "       0.37906137, 0.38628159, 0.40433213, 0.40433213, 0.41155235,\n",
       "       0.48736462, 0.50541516, 0.50541516, 0.50902527, 0.51263538,\n",
       "       0.5234657 , 0.53068592, 0.53429603, 0.53429603, 0.53790614,\n",
       "       0.54512635, 0.5631769 , 0.5631769 , 0.57039711, 0.57039711,\n",
       "       0.57761733, 0.57761733, 0.58122744, 0.58122744, 0.58483755,\n",
       "       0.58483755, 0.58844765, 0.58844765, 0.59205776, 0.59205776,\n",
       "       0.83032491, 0.83032491, 0.83754513, 0.83754513, 0.84476534,\n",
       "       0.84476534, 0.84837545, 0.89169675, 0.89169675, 0.89530686,\n",
       "       0.89530686, 0.89891697, 0.89891697, 0.90252708, 0.90252708,\n",
       "       0.9133574 , 0.9133574 , 0.9133574 , 0.9133574 , 0.9133574 ,\n",
       "       0.91696751, 0.91696751, 0.91696751, 1.        , 1.        ])"
      ]
     },
     "execution_count": 155,
     "metadata": {},
     "output_type": "execute_result"
    }
   ],
   "source": [
    "tpr"
   ]
  },
  {
   "cell_type": "code",
   "execution_count": 156,
   "id": "spectacular-front",
   "metadata": {},
   "outputs": [
    {
     "data": {
      "text/plain": [
       "array([0.        , 0.        , 0.        , 0.00126582, 0.00126582,\n",
       "       0.00253165, 0.00253165, 0.00253165, 0.00253165, 0.00253165,\n",
       "       0.00253165, 0.00506329, 0.00506329, 0.00506329, 0.00506329,\n",
       "       0.00632911, 0.00632911, 0.00886076, 0.00886076, 0.01012658,\n",
       "       0.01012658, 0.01012658, 0.01012658, 0.01139241, 0.01392405,\n",
       "       0.01392405, 0.01392405, 0.0164557 , 0.0164557 , 0.01772152,\n",
       "       0.01772152, 0.01898734, 0.02025316, 0.02025316, 0.02405063,\n",
       "       0.02405063, 0.02658228, 0.02658228, 0.02658228, 0.0278481 ,\n",
       "       0.0278481 , 0.0278481 , 0.0278481 , 0.03037975, 0.03037975,\n",
       "       0.04810127, 0.04810127, 0.04936709, 0.04936709, 0.05063291,\n",
       "       0.05063291, 0.05063291, 0.05063291, 0.05316456, 0.05316456,\n",
       "       0.05443038, 0.05443038, 0.05949367, 0.06075949, 0.06202532,\n",
       "       0.06202532, 0.06329114, 0.06329114, 0.06455696, 0.06455696,\n",
       "       0.06582278, 0.06582278, 0.06708861, 0.06708861, 0.0721519 ,\n",
       "       0.20886076, 0.21012658, 0.21012658, 0.21265823, 0.21518987,\n",
       "       0.2164557 , 0.2164557 , 0.24556962, 0.24683544, 0.24683544,\n",
       "       0.24810127, 0.24810127, 0.24936709, 0.24936709, 0.25316456,\n",
       "       0.25443038, 0.2556962 , 0.27468354, 0.27721519, 0.27848101,\n",
       "       0.27848101, 0.28607595, 0.29873418, 0.99367089, 1.        ])"
      ]
     },
     "execution_count": 156,
     "metadata": {},
     "output_type": "execute_result"
    }
   ],
   "source": [
    "fpr"
   ]
  },
  {
   "cell_type": "markdown",
   "id": "accredited-oxygen",
   "metadata": {},
   "source": [
    "The threshold found was 0.05"
   ]
  },
  {
   "cell_type": "code",
   "execution_count": 157,
   "id": "familiar-utilization",
   "metadata": {},
   "outputs": [],
   "source": [
    "y_pred_new_threshold = (logitmodel.predict_proba(X_test)[:,1]>=0.05).astype(int)"
   ]
  },
  {
   "cell_type": "code",
   "execution_count": 158,
   "id": "static-format",
   "metadata": {},
   "outputs": [
    {
     "name": "stdout",
     "output_type": "stream",
     "text": [
      "[[554 236]\n",
      " [ 23 254]]\n",
      "\n",
      "\n",
      "              precision    recall  f1-score   support\n",
      "\n",
      "           0       0.96      0.70      0.81       790\n",
      "           1       0.52      0.92      0.66       277\n",
      "\n",
      "    accuracy                           0.76      1067\n",
      "   macro avg       0.74      0.81      0.74      1067\n",
      "weighted avg       0.85      0.76      0.77      1067\n",
      "\n"
     ]
    }
   ],
   "source": [
    "print(confusion_matrix(y_test,y_pred_new_threshold))\n",
    "print('\\n')\n",
    "print(classification_report(y_test,y_pred_new_threshold))"
   ]
  },
  {
   "cell_type": "markdown",
   "id": "unlike-vacuum",
   "metadata": {},
   "source": [
    "We have achieved to increase the recall which means to increase the true positive rate and consequently to diminish the False Negatives rate which is desireable in order to classify correclty projects as expensive or not based on its features "
   ]
  }
 ],
 "metadata": {
  "kernelspec": {
   "display_name": "dataanalyticspython",
   "language": "python",
   "name": "dataanalyticspython"
  },
  "language_info": {
   "codemirror_mode": {
    "name": "ipython",
    "version": 3
   },
   "file_extension": ".py",
   "mimetype": "text/x-python",
   "name": "python",
   "nbconvert_exporter": "python",
   "pygments_lexer": "ipython3",
   "version": "3.9.2"
  }
 },
 "nbformat": 4,
 "nbformat_minor": 5
}
